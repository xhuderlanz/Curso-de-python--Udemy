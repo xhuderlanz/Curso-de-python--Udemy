{
 "cells": [
  {
   "cell_type": "markdown",
   "metadata": {},
   "source": [
    "# Ejercicios del curso Master en Python 3.X. Aprende de 0 a EXPERTO\n",
    "\n",
    "## Sección 6: Entrada por teclado y salida por pantalla\n",
    "\n",
    "Documentación en:\n",
    "    D:\\DocumentosD\\Python\\Curso-de-python--Udemy-\\Documentación\\4. Entrada por teclado y salida por pantalla"
   ]
  },
  {
   "cell_type": "markdown",
   "metadata": {},
   "source": [
    "## Ejercicio 1\n",
    "\n",
    "Realizar un programa que haga el proceso de formula general para la resolución de ecuaciones, sabiendo que la formula general es la que está en la imagen, el usuario debe ingresar los valores de “a”, “b” y “c”, y el programa debe hacer el proceso para que al final muestre el mensaje: “La solución es: <solucion>”"
   ]
  },
  {
   "cell_type": "code",
   "execution_count": 10,
   "metadata": {},
   "outputs": [
    {
     "name": "stdout",
     "output_type": "stream",
     "text": [
      "Introduzca los valores a evaluar: \n",
      "\n",
      "La solución es:  [(1+0j), (0.6666666666666666+0j)]\n"
     ]
    }
   ],
   "source": [
    "import cmath as cm\n",
    "import math as mt\n",
    "\n",
    "print('Introduzca los valores a evaluar: \\n')\n",
    "a = float(input('a = '))\n",
    "b = float(input('b = '))\n",
    "c = float(input('c = '))\n",
    "\n",
    "sol = []\n",
    "sqr = cm.sqrt(mt.pow(b,2) - 4*a*c)\n",
    "sol.append((-b + sqr) / (2*a)) \n",
    "sol.append((-b - sqr) / (2*a)) \n",
    "\n",
    "print('La solución es: ', sol)\n",
    "\n"
   ]
  },
  {
   "cell_type": "markdown",
   "metadata": {},
   "source": [
    "#### solucion del curso"
   ]
  },
  {
   "cell_type": "code",
   "execution_count": 8,
   "metadata": {},
   "outputs": [
    {
     "name": "stdout",
     "output_type": "stream",
     "text": [
      "La solucion es: \n",
      "x1= 1.0 \n",
      "x2= 0.6666666666666666\n"
     ]
    }
   ],
   "source": [
    "#Realizar un programa que haga el proceso de formula general para la resolución de ecuaciones, sabiendo que la formula general es la que está en la imagen, el usuario debe ingresar los valores de “a”, “b” y “c”, y el programa debe hacer el proceso para que al final muestre el mensaje: “La solución es: <solucion>”\n",
    "#3x^2-5x+2=0    x=1 x=2/3\n",
    "\n",
    "from math import sqrt\n",
    "\n",
    "A = int(input(\"Ingresa el valor de A: \"))\n",
    "B = int(input(\"Ingresa el valor de B: \"))\n",
    "C = int(input(\"Ingresa el valor de C: \"))\n",
    "x1 = 0\n",
    "x2 = 0\n",
    "\n",
    "if ((B**2)-(4*A*C)) < 0:\n",
    "    print(\"No se puede realizar porque no se puede sacar raiz a un numero negativo\")\n",
    "else:\n",
    "    x1 = (-B + sqrt((B**2)-(4*A*C)))/(2*A)\n",
    "    x2 = (-B - sqrt((B**2)-(4*A*C)))/(2*A)\n",
    "    print(\"La solucion es: \\nx1=\",x1, \"\\nx2=\",x2)"
   ]
  },
  {
   "cell_type": "markdown",
   "metadata": {},
   "source": [
    "## Ejercicio 2\n",
    "\n",
    "Se desea tener un algoritmo que permita determinar y mostrar el promedio que ha obtenido un alumno en un determinado curso, conociendo las notas de: tres prácticas, el examen parcial y el examen final.\n",
    "\n",
    "Considere:\n",
    "\n",
    "PP = ( P1 + P2 +P3 ) / 3 PROM = ( PP + 2*EP + 3*EF ) / 6\n",
    "\n",
    "Donde: P1, P2, P3 : Practicas\n",
    "\n",
    "PP: promedio de práctica\n",
    "\n",
    "PROM: promedio\n",
    "\n",
    "EP: examen parcial\n",
    "\n",
    "EF: examen final\n",
    "\n",
    "Datos de prueba\n",
    "P1 = 80\n",
    "P2 = 91\n",
    "P3 = 68\n",
    "EP = 72\n",
    "EF = 95"
   ]
  },
  {
   "cell_type": "code",
   "execution_count": 13,
   "metadata": {},
   "outputs": [
    {
     "name": "stdout",
     "output_type": "stream",
     "text": [
      "Introduzca sus notas:\n",
      "\n",
      "Promedio de práctica:  79.66666666666667\n",
      "Su promedio final es:  84.77777777777779\n"
     ]
    }
   ],
   "source": [
    "import cmath as cm\n",
    "import math as mt\n",
    "\n",
    "print('Introduzca sus notas:\\n')\n",
    "P1 = float(input('Práctica 1'))\n",
    "P2 = float(input('Práctica 2'))\n",
    "P3 = float(input('Práctica 3'))\n",
    "\n",
    "PP = ( P1 + P2 + P3 ) / 3 \n",
    "\n",
    "print('Promedio de práctica: ',PP)\n",
    "\n",
    "EP = float(input('Examen parcial'))\n",
    "EF = float(input('Examen final'))\n",
    "\n",
    "PROM = ( PP + 2*EP + 3*EF ) / 6\n",
    "print('Su promedio final es: ',PROM)"
   ]
  },
  {
   "cell_type": "markdown",
   "metadata": {},
   "source": [
    "#### Solución del curso\n"
   ]
  },
  {
   "cell_type": "code",
   "execution_count": 14,
   "metadata": {},
   "outputs": [
    {
     "name": "stdout",
     "output_type": "stream",
     "text": [
      "El Promedio de Practica del estudiante es de:\n",
      "  79.66666666666667 \n",
      " Y el promedio Final es de:\n",
      "  84.77777777777779\n"
     ]
    }
   ],
   "source": [
    "#Se desea tener un algoritmo que permita determinar y mostrar el promedio que ha obtenido un alumno en un determinado curso, conociendo las notas de: tres prácticas, el examen parcial y el examen final.\n",
    "\n",
    "#Considere:\n",
    "\n",
    "#PP = ( P1 + P2 +P3 ) / 3 PROM = ( PP + 2*EP + 3*EF ) / 6\n",
    "\n",
    "#Donde: P1, P2, P3 : Practicas\n",
    "\n",
    "#PP: promedio de práctica\n",
    "\n",
    "#PROM: promedio\n",
    "\n",
    "#EP: examen parcial\n",
    "\n",
    "#EF: examen final\n",
    "\n",
    "practica1 = float(input(\"Ingrese el valor de la practica 1: \"))\n",
    "practica2 = float(input(\"Ingrese el valor de la practica 2: \"))\n",
    "practica3 = float(input(\"Ingrese el valor de la practica 3: \"))\n",
    "ExamenParcial = float(input(\"Ingrese el valor del examen parcial: \"))\n",
    "ExamenFinal = float(input(\"Ingrese el valor del examen final: \"))\n",
    "\n",
    "PromedioPractica = (practica1 + practica2 + practica3)/3\n",
    "PromedioFinal = (PromedioPractica + 2*ExamenParcial + 3*ExamenFinal) /6\n",
    "\n",
    "print(\"El Promedio de Practica del estudiante es de:\\n \", PromedioPractica, \"\\n Y el promedio Final es de:\\n \",PromedioFinal)"
   ]
  },
  {
   "cell_type": "markdown",
   "metadata": {},
   "source": [
    "## Ejercicio 3\n",
    "\n",
    "Escribir un programa que solicite al usuario un vocal en minuscula, y luego una letra en mayúsculas. El programa debe convertir la letra en minúscula y la vocal en mayúscula, y al final, deben ser concatenadas ambas"
   ]
  },
  {
   "cell_type": "code",
   "execution_count": 15,
   "metadata": {},
   "outputs": [
    {
     "name": "stdout",
     "output_type": "stream",
     "text": [
      "El resultado es:  bA\n"
     ]
    }
   ],
   "source": [
    "vocal = input('Introduzca una vocal en minúscula: ')\n",
    "letra = input('Introduzca una letra en mayúscula: ')\n",
    "\n",
    "cont =  letra.lower() + vocal.upper() \n",
    "print('El resultado es: ', cont)"
   ]
  },
  {
   "cell_type": "markdown",
   "metadata": {},
   "source": [
    "#### Solución del curso"
   ]
  },
  {
   "cell_type": "code",
   "execution_count": 16,
   "metadata": {},
   "outputs": [
    {
     "name": "stdout",
     "output_type": "stream",
     "text": [
      "La consonante fue: b \n",
      "La vocal fue: A\n"
     ]
    }
   ],
   "source": [
    "#Escribir un programa que solicite al usuario un vocal en minuscula, y luego una letra en mayúsculas. El programa debe convertir la letra en minúscula y la vocal en mayúscula, y al final, deben ser concatenadas ambas\n",
    "\n",
    "vocal = input(\"Ingresa una vocal EN MINUSCULA: \")\n",
    "consonante = input(\"Ingresa una consonante EN MAYUSCULA: \")\n",
    "\n",
    "vocal = vocal.upper()\n",
    "consonante = consonante.lower()\n",
    "\n",
    "print(\"La consonante fue: {} \\nLa vocal fue: {}\".format(consonante , vocal))"
   ]
  },
  {
   "cell_type": "markdown",
   "metadata": {},
   "source": [
    "## Ejercicio 4\n",
    "\n",
    "Hacer un programa que pida al usuario su nombre, su edad y su sexo y los muestre de la siguiente forma:\n",
    "\n",
    "Te llamas: <nombre>\n",
    "\n",
    "Tu edad es: <edad>\n",
    "\n",
    "Eres: <sexo>"
   ]
  },
  {
   "cell_type": "code",
   "execution_count": 21,
   "metadata": {},
   "outputs": [
    {
     "name": "stdout",
     "output_type": "stream",
     "text": [
      "Te llamas: Dwight\n",
      "Tu edad es 21\n",
      "Eres hombre\n"
     ]
    }
   ],
   "source": [
    "nombre = input('Introduzca su nombre: ').capitalize()\n",
    "edad = int(input('Introduzca su edad: '))\n",
    "sexo = input('Introduzca su sexo: ')\n",
    "\n",
    "print('Te llamas: {}\\nTu edad es {}\\nEres {}'.format(nombre, edad, sexo))"
   ]
  },
  {
   "cell_type": "markdown",
   "metadata": {},
   "source": [
    "#### Solución del curso"
   ]
  },
  {
   "cell_type": "code",
   "execution_count": 19,
   "metadata": {},
   "outputs": [
    {
     "name": "stdout",
     "output_type": "stream",
     "text": [
      "Te llamas: Dwight\n",
      "Tu edad es: 21\n",
      "Eres: hombre\n"
     ]
    }
   ],
   "source": [
    "#Hacer un programa que pida al usuario su nombre, su edad y su sexo y los muestre de la siguiente forma:\n",
    "\n",
    "#Te llamas: <nombre>\n",
    "\n",
    "#Tu edad es: <edad>\n",
    "\n",
    "#Eres: <sexo>\n",
    "\n",
    "nombre = input(\"Ingresa tu nombre: \")\n",
    "edad = int(input(\"Ingresa tu edad: \"))\n",
    "sexo = input(\"Ingresa tu sexo: \")\n",
    "\n",
    "print(\"Te llamas: {}\\nTu edad es: {}\\nEres: {}\".format(nombre,edad,sexo))"
   ]
  }
 ],
 "metadata": {
  "kernelspec": {
   "display_name": "Python 3.10.4 64-bit",
   "language": "python",
   "name": "python3"
  },
  "language_info": {
   "codemirror_mode": {
    "name": "ipython",
    "version": 3
   },
   "file_extension": ".py",
   "mimetype": "text/x-python",
   "name": "python",
   "nbconvert_exporter": "python",
   "pygments_lexer": "ipython3",
   "version": "3.10.4"
  },
  "orig_nbformat": 4,
  "vscode": {
   "interpreter": {
    "hash": "26de051ba29f2982a8de78e945f0abaf191376122a1563185a90213a26c5da77"
   }
  }
 },
 "nbformat": 4,
 "nbformat_minor": 2
}
