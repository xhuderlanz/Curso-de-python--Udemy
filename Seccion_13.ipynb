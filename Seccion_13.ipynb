{
 "cells": [
  {
   "cell_type": "markdown",
   "metadata": {},
   "source": [
    "# Ejercicios del curso Master en Python 3.X. Aprende de 0 a EXPERTO\n",
    "\n",
    "## Sección 13: Bucles\n",
    "\n",
    "Documentación en:\n",
    "    D:\\DocumentosD\\Python\\Curso-de-python--Udemy-\\Documentación\\8. Bucles"
   ]
  },
  {
   "cell_type": "markdown",
   "metadata": {},
   "source": [
    "## Ejercicio 1\n",
    "\n",
    "Escribir un programa que pida un numero al usuario y muestre las tablas de multiplicar de ese numero"
   ]
  },
  {
   "cell_type": "code",
   "execution_count": 4,
   "metadata": {},
   "outputs": [
    {
     "name": "stdout",
     "output_type": "stream",
     "text": [
      "La tabla de multiplicar de 12 es:\n",
      "\t12 x 0 = 0\n",
      "\t12 x 1 = 12\n",
      "\t12 x 2 = 24\n",
      "\t12 x 3 = 36\n",
      "\t12 x 4 = 48\n",
      "\t12 x 5 = 60\n",
      "\t12 x 6 = 72\n",
      "\t12 x 7 = 84\n",
      "\t12 x 8 = 96\n",
      "\t12 x 9 = 108\n",
      "\t12 x 10 = 120\n",
      "\t12 x 11 = 132\n",
      "\t12 x 12 = 144\n"
     ]
    }
   ],
   "source": [
    "num = int(input('Introduzca un número: '))\n",
    "\n",
    "i = 0\n",
    "\n",
    "print('La tabla de multiplicar de {} es:'.format(num))\n",
    "while i <= 12:\n",
    "    print('\\t{} x {} = {}'.format(num, i, num * i))\n",
    "    i+=1\n",
    "    "
   ]
  },
  {
   "cell_type": "markdown",
   "metadata": {},
   "source": [
    "#### Solución del curso"
   ]
  },
  {
   "cell_type": "code",
   "execution_count": 5,
   "metadata": {},
   "outputs": [
    {
     "name": "stdout",
     "output_type": "stream",
     "text": [
      "12 x 0 = 0\n",
      "12 x 1 = 12\n",
      "12 x 2 = 24\n",
      "12 x 3 = 36\n",
      "12 x 4 = 48\n",
      "12 x 5 = 60\n",
      "12 x 6 = 72\n",
      "12 x 7 = 84\n",
      "12 x 8 = 96\n",
      "12 x 9 = 108\n",
      "12 x 10 = 120\n"
     ]
    }
   ],
   "source": [
    "#Escribir un programa que pida un numero al usuario y muestre las tablas de multiplicar de ese numero\n",
    "\n",
    "numero = int(input(\"Ingresa un numero para saber su tabla: \")) #2\n",
    "i = 0\n",
    "multi = 0\n",
    "\n",
    "while i <= 10:\n",
    "    multi = numero * i #0\n",
    "    print(\"{} x {} = {}\".format(numero , i , multi))\n",
    "    i += 1"
   ]
  },
  {
   "cell_type": "markdown",
   "metadata": {},
   "source": [
    "## Ejercicio 2\n",
    "\n",
    "Escribir un programa que pregunte al usuario su edad y muestre por pantalla todos los años que ha cumplido (desde 1 hasta su edad)."
   ]
  },
  {
   "cell_type": "code",
   "execution_count": 9,
   "metadata": {},
   "outputs": [
    {
     "name": "stdout",
     "output_type": "stream",
     "text": [
      "Usted cumplió años en: \n",
      "\t2002\n",
      "\t2003\n",
      "\t2004\n",
      "\t2005\n",
      "\t2006\n",
      "\t2007\n",
      "\t2008\n",
      "\t2009\n",
      "\t2010\n",
      "\t2011\n",
      "\t2012\n",
      "\t2013\n",
      "\t2014\n",
      "\t2015\n",
      "\t2016\n",
      "\t2017\n",
      "\t2018\n",
      "\t2019\n",
      "\t2020\n",
      "\t2021\n",
      "\t2022\n"
     ]
    }
   ],
   "source": [
    "anio = int(input('¿Cúantos años tiene?: '))\n",
    "i = anio\n",
    "print('Usted cumplió años en: ')\n",
    "while i > 0:\n",
    "    print('\\t{}'.format(2022-i+1))\n",
    "    i-=1"
   ]
  },
  {
   "cell_type": "markdown",
   "metadata": {},
   "source": [
    "#### Solución del curso"
   ]
  },
  {
   "cell_type": "code",
   "execution_count": 10,
   "metadata": {},
   "outputs": [
    {
     "name": "stdout",
     "output_type": "stream",
     "text": [
      "Has cumplido: 1 anios\n",
      "Has cumplido: 2 anios\n",
      "Has cumplido: 3 anios\n",
      "Has cumplido: 4 anios\n",
      "Has cumplido: 5 anios\n",
      "Has cumplido: 6 anios\n",
      "Has cumplido: 7 anios\n",
      "Has cumplido: 8 anios\n",
      "Has cumplido: 9 anios\n",
      "Has cumplido: 10 anios\n",
      "Has cumplido: 11 anios\n",
      "Has cumplido: 12 anios\n",
      "Has cumplido: 13 anios\n",
      "Has cumplido: 14 anios\n",
      "Has cumplido: 15 anios\n",
      "Has cumplido: 16 anios\n",
      "Has cumplido: 17 anios\n",
      "Has cumplido: 18 anios\n",
      "Has cumplido: 19 anios\n",
      "Has cumplido: 20 anios\n",
      "Has cumplido: 21 anios\n"
     ]
    }
   ],
   "source": [
    "#Escribir un programa que pregunte al usuario su edad y muestre por pantalla todos los años que ha cumplido (desde 1 hasta su edad).\n",
    "\n",
    "edad = int(input(\"Digita tu edad, para mostrarte tus anios: \")) #50\n",
    "i = 1\n",
    "\n",
    "while i <= edad:\n",
    "    print(\"Has cumplido: {} anios\".format(i))\n",
    "    i += 1"
   ]
  },
  {
   "cell_type": "markdown",
   "metadata": {},
   "source": [
    "## Ejercicio 3\n",
    "\n",
    "Imprimir por pantalla los numeros del 1 al 10, luego, pedir al usuario dos numeros y mostrar el rango de numeros entre ambas cifras"
   ]
  },
  {
   "cell_type": "code",
   "execution_count": 12,
   "metadata": {},
   "outputs": [
    {
     "name": "stdout",
     "output_type": "stream",
     "text": [
      "1\n",
      "2\n",
      "3\n",
      "4\n",
      "5\n",
      "6\n",
      "7\n",
      "8\n",
      "9\n",
      "10\n",
      "\n",
      "\n",
      "\n",
      "2\n",
      "3\n",
      "4\n",
      "5\n",
      "6\n",
      "7\n"
     ]
    }
   ],
   "source": [
    "for i in range(1,11):\n",
    "    print(i)\n",
    "    \n",
    "print('\\n')\n",
    "num1 = int(input('Introduzca 2 números:'))\n",
    "num2 = int(input())\n",
    "\n",
    "for i in range(num1,num2+1):\n",
    "    print(i)"
   ]
  },
  {
   "cell_type": "markdown",
   "metadata": {},
   "source": [
    "#### Solución del curso"
   ]
  },
  {
   "cell_type": "code",
   "execution_count": 13,
   "metadata": {},
   "outputs": [
    {
     "name": "stdout",
     "output_type": "stream",
     "text": [
      "1\n",
      "2\n",
      "3\n",
      "4\n",
      "5\n",
      "6\n",
      "7\n",
      "8\n",
      "9\n",
      "10\n",
      "2\n",
      "3\n",
      "4\n",
      "5\n",
      "6\n",
      "7\n"
     ]
    }
   ],
   "source": [
    "#Imprimir por pantalla los numeros del 1 al 10, luego, pedir al usuario dos numeros y mostrar el rango de numeros entre ambas cifras\n",
    "\n",
    "for i in range(1 , 11):\n",
    "    print(i)\n",
    "\n",
    "num1 = int(input(\"Ingresa la primer cifra: \"))\n",
    "num2 = int(input(\"Ingresa la segunda cifra: \"))\n",
    "\n",
    "for i in range(num1 , num2 + 1):\n",
    "    print(i)"
   ]
  },
  {
   "cell_type": "markdown",
   "metadata": {},
   "source": [
    "## Ejercicio 4\n",
    "\n",
    "Pedir al usuario que ingrese 2 numeros, después, se debe mostrar el rango de esos 2 números, pero, solo imprimiendo los números que sean impares"
   ]
  },
  {
   "cell_type": "code",
   "execution_count": 18,
   "metadata": {},
   "outputs": [
    {
     "name": "stdout",
     "output_type": "stream",
     "text": [
      "3\n",
      "5\n",
      "7\n",
      "9\n"
     ]
    }
   ],
   "source": [
    "num1 = int(input('Introduzca el primer número: '))\n",
    "num2 = int(input('Introduzca el segundo número: '))\n",
    "\n",
    "for i in range(num1, num2 + 1):\n",
    "    if i % 2 == 0:\n",
    "        continue\n",
    "    print(i)"
   ]
  },
  {
   "cell_type": "markdown",
   "metadata": {},
   "source": [
    "#### Solución del curso"
   ]
  },
  {
   "cell_type": "code",
   "execution_count": 17,
   "metadata": {},
   "outputs": [
    {
     "name": "stdout",
     "output_type": "stream",
     "text": [
      "3\n",
      "5\n",
      "7\n",
      "9\n"
     ]
    }
   ],
   "source": [
    "#Pedir al usuario que ingrese 2 numeros, después, se debe mostrar el rango de esos 2 números, pero, solo imprimiendo los números que sean impares\n",
    "\n",
    "num1 = int(input(\"Ingresa el primer Numero: \"))\n",
    "num2 = int(input(\"Ingresa el segundo Numero: \"))\n",
    "\n",
    "for i in range(num1 , num2 + 1):\n",
    "    if i % 2 == 0:\n",
    "        continue\n",
    "    print(i)"
   ]
  }
 ],
 "metadata": {
  "kernelspec": {
   "display_name": "Python 3.10.4 64-bit",
   "language": "python",
   "name": "python3"
  },
  "language_info": {
   "codemirror_mode": {
    "name": "ipython",
    "version": 3
   },
   "file_extension": ".py",
   "mimetype": "text/x-python",
   "name": "python",
   "nbconvert_exporter": "python",
   "pygments_lexer": "ipython3",
   "version": "3.10.4"
  },
  "orig_nbformat": 4,
  "vscode": {
   "interpreter": {
    "hash": "26de051ba29f2982a8de78e945f0abaf191376122a1563185a90213a26c5da77"
   }
  }
 },
 "nbformat": 4,
 "nbformat_minor": 2
}
