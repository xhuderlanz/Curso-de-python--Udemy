{
 "cells": [
  {
   "cell_type": "markdown",
   "metadata": {},
   "source": [
    "# Ejercicios del curso Master en Python 3.X. Aprende de 0 a EXPERTO\n",
    "\n",
    "## Sección 4 - Operadores Aritméticos\n",
    "\n",
    "Documentación en:\n",
    "\n",
    "    D:\\DocumentosD\\Python\\Curso-de-python--Udemy-\\Documentación\\2. Operadores aritméticos\n",
    "\n",
    "### Librerias"
   ]
  },
  {
   "cell_type": "code",
   "execution_count": 2,
   "metadata": {},
   "outputs": [],
   "source": [
    "import math as mt\n"
   ]
  },
  {
   "cell_type": "markdown",
   "metadata": {},
   "source": [
    "### Ejercicio 1\n",
    "\n",
    "Realice la siguiente operación aritmética:\n",
    "\n",
    "## $$\\frac{3+2}{2\\cdot5}$$"
   ]
  },
  {
   "cell_type": "code",
   "execution_count": 5,
   "metadata": {},
   "outputs": [
    {
     "name": "stdout",
     "output_type": "stream",
     "text": [
      "0.25\n"
     ]
    }
   ],
   "source": [
    "op = mt.pow((3+2)/(2*5), 2)\n",
    "print(op)"
   ]
  },
  {
   "cell_type": "markdown",
   "metadata": {},
   "source": [
    "### Ejercicio 2\n",
    "\n",
    "Una juguetería tiene mucho éxito en dos de sus productos: payasos y muñecas. Suele hacer venta por correo y la empresa de logística les cobra por peso de cada paquete, así que deben calcular el peso de los payasos y muñecas que saldrán en cada paquete a demanda. Cada payaso pesa 112 g y cada muñeca 75 g. Un cliente frecuente pide la cantidad de 23 payasos y 54 muñecas, realiza un programa que muestre el peso total de toda la venta."
   ]
  },
  {
   "cell_type": "code",
   "execution_count": 16,
   "metadata": {},
   "outputs": [
    {
     "name": "stdout",
     "output_type": "stream",
     "text": [
      "Peso total de la venta:  6626\n",
      "La cantidad de objetos de la venta:  77\n",
      "La cantidad de tipos es:  2\n"
     ]
    }
   ],
   "source": [
    "class objeto_venta:\n",
    "    total_tipo = 0\n",
    "    total_size = 0\n",
    "    total_weight = 0\n",
    "    \n",
    "    def __init__(self, name, size, weight):\n",
    "        self.name = name\n",
    "        self.size = size\n",
    "        self.weight = weight\n",
    "        objeto_venta.add_size(self.size)\n",
    "        objeto_venta.add_weight(self.weight, self.size)\n",
    "        objeto_venta.add_tipo()\n",
    "        \n",
    "    def change_size(self, new_size):\n",
    "        self.size = new_size\n",
    "        \n",
    "    def change_weight(self, new_weight):\n",
    "        self.weight = new_weight\n",
    "        \n",
    "    @classmethod\n",
    "    def tl_size(cls):\n",
    "        return cls.total_size\n",
    "    \n",
    "    @classmethod\n",
    "    def add_size(cls, size):\n",
    "        cls.total_size += size\n",
    "        \n",
    "    @classmethod\n",
    "    def tl_weight(cls):\n",
    "        return cls.total_weight\n",
    "    \n",
    "    @classmethod\n",
    "    def add_weight(cls, weight, size):\n",
    "        cls.total_weight += weight*size\n",
    "        \n",
    "    @classmethod\n",
    "    def tl_tipo(cls):\n",
    "        return cls.total_tipo\n",
    "    \n",
    "    @classmethod\n",
    "    def add_tipo(cls):\n",
    "        cls.total_tipo += 1\n",
    "        \n",
    "    \n",
    "\n",
    "payaso = objeto_venta(\"payaso\", 23, 112)\n",
    "doll = objeto_venta(\"doll\", 54, 75)\n",
    "\n",
    "\n",
    "print(\"Peso total de la venta: \", objeto_venta.tl_weight())\n",
    "print(\"La cantidad de objetos de la venta: \", objeto_venta.tl_size())\n",
    "print(\"La cantidad de tipos es: \", objeto_venta.tl_tipo())\n"
   ]
  },
  {
   "cell_type": "markdown",
   "metadata": {},
   "source": [
    "### Respuesta del curso\n",
    " \n",
    "Ejercicio 1"
   ]
  },
  {
   "cell_type": "code",
   "execution_count": 12,
   "metadata": {},
   "outputs": [
    {
     "name": "stdout",
     "output_type": "stream",
     "text": [
      "0.25\n"
     ]
    }
   ],
   "source": [
    "calculo = pow(((3+2) / (5*2)) , 2)\n",
    "\n",
    "print(calculo)"
   ]
  },
  {
   "cell_type": "markdown",
   "metadata": {},
   "source": [
    "Ejercicio 2"
   ]
  },
  {
   "cell_type": "code",
   "execution_count": 17,
   "metadata": {},
   "outputs": [
    {
     "name": "stdout",
     "output_type": "stream",
     "text": [
      "El peso total es de:  6626\n"
     ]
    }
   ],
   "source": [
    "#Una juguetería tiene mucho éxito en dos de sus productos: payasos y muñecas. Suele hacer venta por correo y la empresa de logística les cobra por peso de cada paquete, así que deben calcular el peso de los payasos y muñecas que saldrán en cada paquete a demanda. Cada payaso pesa 112 g y cada muñeca 75 g. Un cliente frecuente pide la cantidad de 23 payasos y 54 muñecas, realiza un programa que muestre el peso total de toda la venta.\n",
    "\n",
    "#Pista: Suponiendo que un cliente pide 5 payasos y 3 muñecas, la juguetería debería hacer la multiplicación de la cantidad de payasos con su peso, al igual que las muñecas; al tener ambos totales de peso, se debe sumar.\n",
    "\n",
    "#23 Payasos --> 112 g\n",
    "#54 Munecas --> 75g\n",
    "\n",
    "CantidadPayasos = 23\n",
    "CantidadMunecas = 54\n",
    "\n",
    "Procedimiento = ((CantidadPayasos * 112) + (CantidadMunecas * 75))\n",
    "\n",
    "print(\"El peso total es de: \",Procedimiento)"
   ]
  },
  {
   "cell_type": "code",
   "execution_count": null,
   "metadata": {},
   "outputs": [],
   "source": []
  }
 ],
 "metadata": {
  "kernelspec": {
   "display_name": "Python 3.10.4 64-bit",
   "language": "python",
   "name": "python3"
  },
  "language_info": {
   "codemirror_mode": {
    "name": "ipython",
    "version": 3
   },
   "file_extension": ".py",
   "mimetype": "text/x-python",
   "name": "python",
   "nbconvert_exporter": "python",
   "pygments_lexer": "ipython3",
   "version": "3.10.4"
  },
  "orig_nbformat": 4,
  "vscode": {
   "interpreter": {
    "hash": "26de051ba29f2982a8de78e945f0abaf191376122a1563185a90213a26c5da77"
   }
  }
 },
 "nbformat": 4,
 "nbformat_minor": 2
}
