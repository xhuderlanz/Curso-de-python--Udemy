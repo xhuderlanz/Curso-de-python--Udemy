{
 "cells": [
  {
   "cell_type": "markdown",
   "metadata": {},
   "source": [
    "# Ejercicios del curso Master en Python 3.X. Aprende de 0 a EXPERTO\n",
    "\n",
    "## Sección 4 - Operadores Aritméticos\n",
    "\n",
    "\n",
    "### Librerias"
   ]
  },
  {
   "cell_type": "code",
   "execution_count": 1,
   "metadata": {},
   "outputs": [],
   "source": [
    "import math as mt"
   ]
  },
  {
   "cell_type": "markdown",
   "metadata": {},
   "source": [
    "### Ejercicio 1\n",
    "\n",
    "Realice la siguiente operación aritmética:\n",
    "\n",
    "## $$\\frac{3+2}{2\\cdot5}$$"
   ]
  },
  {
   "cell_type": "code",
   "execution_count": 5,
   "metadata": {},
   "outputs": [
    {
     "name": "stdout",
     "output_type": "stream",
     "text": [
      "0.25\n"
     ]
    }
   ],
   "source": [
    "op = mt.pow((3+2)/(2*5), 2)\n",
    "print(op)"
   ]
  },
  {
   "cell_type": "markdown",
   "metadata": {},
   "source": [
    "### Ejercicio 2\n",
    "\n",
    "Una juguetería tiene mucho éxito en dos de sus productos: payasos y muñecas. Suele hacer venta por correo y la empresa de logística les cobra por peso de cada paquete, así que deben calcular el peso de los payasos y muñecas que saldrán en cada paquete a demanda. Cada payaso pesa 112 g y cada muñeca 75 g. Un cliente frecuente pide la cantidad de 23 payasos y 54 muñecas, realiza un programa que muestre el peso total de toda la venta."
   ]
  },
  {
   "cell_type": "code",
   "execution_count": 4,
   "metadata": {},
   "outputs": [
    {
     "ename": "AttributeError",
     "evalue": "type object 'objeto_venta' has no attribute 'size'",
     "output_type": "error",
     "traceback": [
      "\u001b[1;31m---------------------------------------------------------------------------\u001b[0m",
      "\u001b[1;31mAttributeError\u001b[0m                            Traceback (most recent call last)",
      "\u001b[1;32md:\\DocumentosD\\Python\\Curso-de-python--Udemy-\\Ejercicios_curso.ipynb Celda 6\u001b[0m in \u001b[0;36m<cell line: 34>\u001b[1;34m()\u001b[0m\n\u001b[0;32m     <a href='vscode-notebook-cell:/d%3A/DocumentosD/Python/Curso-de-python--Udemy-/Ejercicios_curso.ipynb#ch0000009?line=29'>30</a>\u001b[0m     \u001b[39m@classmethod\u001b[39m\n\u001b[0;32m     <a href='vscode-notebook-cell:/d%3A/DocumentosD/Python/Curso-de-python--Udemy-/Ejercicios_curso.ipynb#ch0000009?line=30'>31</a>\u001b[0m     \u001b[39mdef\u001b[39;00m \u001b[39madd_weight\u001b[39m(\u001b[39mcls\u001b[39m):\n\u001b[0;32m     <a href='vscode-notebook-cell:/d%3A/DocumentosD/Python/Curso-de-python--Udemy-/Ejercicios_curso.ipynb#ch0000009?line=31'>32</a>\u001b[0m         \u001b[39mcls\u001b[39m\u001b[39m.\u001b[39mtotal_weight \u001b[39m+\u001b[39m\u001b[39m=\u001b[39m \u001b[39mcls\u001b[39m\u001b[39m.\u001b[39mweight\n\u001b[1;32m---> <a href='vscode-notebook-cell:/d%3A/DocumentosD/Python/Curso-de-python--Udemy-/Ejercicios_curso.ipynb#ch0000009?line=33'>34</a>\u001b[0m payaso \u001b[39m=\u001b[39m objeto_venta(\u001b[39m\"\u001b[39;49m\u001b[39mpayaso\u001b[39;49m\u001b[39m\"\u001b[39;49m, \u001b[39m23\u001b[39;49m, \u001b[39m112\u001b[39;49m)\n\u001b[0;32m     <a href='vscode-notebook-cell:/d%3A/DocumentosD/Python/Curso-de-python--Udemy-/Ejercicios_curso.ipynb#ch0000009?line=34'>35</a>\u001b[0m doll \u001b[39m=\u001b[39m objeto_venta(\u001b[39m\"\u001b[39m\u001b[39mdoll\u001b[39m\u001b[39m\"\u001b[39m, \u001b[39m54\u001b[39m, \u001b[39m75\u001b[39m)\n\u001b[0;32m     <a href='vscode-notebook-cell:/d%3A/DocumentosD/Python/Curso-de-python--Udemy-/Ejercicios_curso.ipynb#ch0000009?line=36'>37</a>\u001b[0m \u001b[39mprint\u001b[39m(\u001b[39m\"\u001b[39m\u001b[39mPeso total de la venta: \u001b[39m\u001b[39m\"\u001b[39m, objeto_venta\u001b[39m.\u001b[39mtl_weight())\n",
      "\u001b[1;32md:\\DocumentosD\\Python\\Curso-de-python--Udemy-\\Ejercicios_curso.ipynb Celda 6\u001b[0m in \u001b[0;36mobjeto_venta.__init__\u001b[1;34m(self, name, size, weight)\u001b[0m\n\u001b[0;32m      <a href='vscode-notebook-cell:/d%3A/DocumentosD/Python/Curso-de-python--Udemy-/Ejercicios_curso.ipynb#ch0000009?line=6'>7</a>\u001b[0m \u001b[39mself\u001b[39m\u001b[39m.\u001b[39msize \u001b[39m=\u001b[39m size\n\u001b[0;32m      <a href='vscode-notebook-cell:/d%3A/DocumentosD/Python/Curso-de-python--Udemy-/Ejercicios_curso.ipynb#ch0000009?line=7'>8</a>\u001b[0m \u001b[39mself\u001b[39m\u001b[39m.\u001b[39mweight \u001b[39m=\u001b[39m weight\n\u001b[1;32m----> <a href='vscode-notebook-cell:/d%3A/DocumentosD/Python/Curso-de-python--Udemy-/Ejercicios_curso.ipynb#ch0000009?line=8'>9</a>\u001b[0m objeto_venta\u001b[39m.\u001b[39;49madd_size()\n\u001b[0;32m     <a href='vscode-notebook-cell:/d%3A/DocumentosD/Python/Curso-de-python--Udemy-/Ejercicios_curso.ipynb#ch0000009?line=9'>10</a>\u001b[0m objeto_venta\u001b[39m.\u001b[39madd_weight()\n",
      "\u001b[1;32md:\\DocumentosD\\Python\\Curso-de-python--Udemy-\\Ejercicios_curso.ipynb Celda 6\u001b[0m in \u001b[0;36mobjeto_venta.add_size\u001b[1;34m(cls)\u001b[0m\n\u001b[0;32m     <a href='vscode-notebook-cell:/d%3A/DocumentosD/Python/Curso-de-python--Udemy-/Ejercicios_curso.ipynb#ch0000009?line=21'>22</a>\u001b[0m \u001b[39m@classmethod\u001b[39m\n\u001b[0;32m     <a href='vscode-notebook-cell:/d%3A/DocumentosD/Python/Curso-de-python--Udemy-/Ejercicios_curso.ipynb#ch0000009?line=22'>23</a>\u001b[0m \u001b[39mdef\u001b[39;00m \u001b[39madd_size\u001b[39m(\u001b[39mcls\u001b[39m):\n\u001b[1;32m---> <a href='vscode-notebook-cell:/d%3A/DocumentosD/Python/Curso-de-python--Udemy-/Ejercicios_curso.ipynb#ch0000009?line=23'>24</a>\u001b[0m     \u001b[39mcls\u001b[39m\u001b[39m.\u001b[39mtotal_size \u001b[39m+\u001b[39m\u001b[39m=\u001b[39m \u001b[39mcls\u001b[39;49m\u001b[39m.\u001b[39;49msize\n",
      "\u001b[1;31mAttributeError\u001b[0m: type object 'objeto_venta' has no attribute 'size'"
     ]
    }
   ],
   "source": [
    "class objeto_venta:\n",
    "    total_objetos = 0\n",
    "    total_size = 0\n",
    "    total_weight = 0\n",
    "    \n",
    "    def __init__(self, name, size, weight):\n",
    "        self.name = name\n",
    "        self.size = size\n",
    "        self.weight = weight\n",
    "        objeto_venta.add_size()\n",
    "        objeto_venta.add_weight()\n",
    "        \n",
    "    def change_size(self, new_size):\n",
    "        self.size = new_size\n",
    "        \n",
    "    def change_weight(self, new_weight):\n",
    "        self.weight = new_weight\n",
    "        \n",
    "    @classmethod\n",
    "    def tl_size(cls):\n",
    "        return cls.size\n",
    "    \n",
    "    @classmethod\n",
    "    def add_size(cls):\n",
    "        cls.total_size += cls.size\n",
    "        \n",
    "    @classmethod\n",
    "    def tl_objetos(cls):\n",
    "        return cls.total_objetos\n",
    "    \n",
    "    @classmethod\n",
    "    def add_objeto(cls):\n",
    "        cls.total_objetos += 1\n",
    "        \n",
    "    @classmethod\n",
    "    def tl_weight(cls):\n",
    "        return cls.total_weight\n",
    "    \n",
    "    @classmethod\n",
    "    def add_weight(cls):\n",
    "        cls.total_weight += cls.weight\n",
    "\n",
    "payaso = objeto_venta(\"payaso\", 23, 112)\n",
    "doll = objeto_venta(\"doll\", 54, 75)\n",
    "\n",
    "print(\"Peso total de la venta: \", objeto_venta.tl_weight())\n"
   ]
  },
  {
   "cell_type": "code",
   "execution_count": null,
   "metadata": {},
   "outputs": [],
   "source": []
  }
 ],
 "metadata": {
  "kernelspec": {
   "display_name": "Python 3.10.4 64-bit",
   "language": "python",
   "name": "python3"
  },
  "language_info": {
   "codemirror_mode": {
    "name": "ipython",
    "version": 3
   },
   "file_extension": ".py",
   "mimetype": "text/x-python",
   "name": "python",
   "nbconvert_exporter": "python",
   "pygments_lexer": "ipython3",
   "version": "3.10.4"
  },
  "orig_nbformat": 4,
  "vscode": {
   "interpreter": {
    "hash": "26de051ba29f2982a8de78e945f0abaf191376122a1563185a90213a26c5da77"
   }
  }
 },
 "nbformat": 4,
 "nbformat_minor": 2
}
