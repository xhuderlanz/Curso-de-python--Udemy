{
 "cells": [
  {
   "cell_type": "markdown",
   "metadata": {},
   "source": [
    "# Ejercicios del curso Master en Python 3.X. Aprende de 0 a EXPERTO\n",
    "\n",
    "## Sección 10: Estructura de Datos: Listas\n",
    "\n",
    "Documentación en:\n",
    "    D:\\DocumentosD\\Python\\Curso-de-python--Udemy-\\Documentación\\7. Estructura de datos"
   ]
  },
  {
   "cell_type": "markdown",
   "metadata": {},
   "source": [
    "# Ejercicio 1\n",
    "\n",
    "En la siguiente lista, debes hacer un programa que muestre los valores al usuario, a su vez, debe pedir dos datos y esos que sean ingresados deben ser sustituidos en el primer y segundo lugar:\n",
    "\n",
    "[20, 50, \"Curso\", 'Python', 3.14]"
   ]
  },
  {
   "cell_type": "code",
   "execution_count": 1,
   "metadata": {},
   "outputs": [
    {
     "name": "stdout",
     "output_type": "stream",
     "text": [
      "Los valores actuales de la lista son:  [20, 50, 'Curso', 'Python', 3.14]\n",
      "Los valores actuales de la lista son:  ['23', '90', 'Curso', 'Python', 3.14]\n"
     ]
    }
   ],
   "source": [
    "lista = [20, 50, \"Curso\", 'Python', 3.14]\n",
    "\n",
    "print('Los valores actuales de la lista son: ',lista)\n",
    "\n",
    "lista[0] = input('Dato a sustituir 1: ')\n",
    "lista[1] = input('Dato a sustituir 1: ')\n",
    "\n",
    "print('Los valores actuales de la lista son: ',lista)"
   ]
  },
  {
   "cell_type": "markdown",
   "metadata": {},
   "source": [
    "#### Solución del curso"
   ]
  },
  {
   "cell_type": "code",
   "execution_count": 2,
   "metadata": {},
   "outputs": [
    {
     "name": "stdout",
     "output_type": "stream",
     "text": [
      "Estos son los valores actuales de la lista:  [20, 50, 'Curso', 'Python', 3.14]\n",
      "El nuevo valor de la lista es: ['23', '90', 'Curso', 'Python', 3.14]\n"
     ]
    }
   ],
   "source": [
    "#En la siguiente lista, debes hacer un programa que muestre los valores al usuario, a su vez, debe pedir dos datos y esos que sean ingresados deben ser sustituidos en el primer y segundo lugar:\n",
    "\n",
    "#[20, 50, \"Curso\", 'Python', 3.14]\n",
    "\n",
    "lista = [20 , 50 , \"Curso\" , 'Python' , 3.14]\n",
    "print(\"Estos son los valores actuales de la lista: \", lista)\n",
    "\n",
    "palabra1 = input(\"Ingrese el primer valor para sustituir en el espacio 1: \")\n",
    "palabra2 = input(\"Ingrese el segundo valor para sustituir en el espacio 2: \")\n",
    "\n",
    "lista[0] = palabra1\n",
    "lista[1] = palabra2\n",
    "\n",
    "print(\"El nuevo valor de la lista es: {}\".format(lista))"
   ]
  },
  {
   "cell_type": "markdown",
   "metadata": {},
   "source": [
    "# Ejercicio 2\n",
    "\n",
    "Escribe una lista que tenga los números de 1 al 10. Luego, debes hacer que los datos que están en las posiciones 4, 7 y 9 sean multiplicados por 2; por último, mostrar la lista nueva con los nuevos datos"
   ]
  },
  {
   "cell_type": "code",
   "execution_count": 11,
   "metadata": {},
   "outputs": [
    {
     "name": "stdout",
     "output_type": "stream",
     "text": [
      "Valores actuales: [1, 2, 3, 4, 5, 6, 7, 8, 9, 10]\n",
      "Valores nuevos: [1, 2, 3, 8, 5, 6, 14, 8, 18, 10]\n"
     ]
    }
   ],
   "source": [
    "lista = list(range(1,11))\n",
    "print('Valores actuales:',lista)\n",
    "lista[3]*= 2\n",
    "lista[6]*= 2\n",
    "lista[8]*= 2\n",
    "\n",
    "print('Valores nuevos:',lista)\n",
    "\n",
    "\n"
   ]
  },
  {
   "cell_type": "markdown",
   "metadata": {},
   "source": [
    "#### Solución del curso"
   ]
  },
  {
   "cell_type": "code",
   "execution_count": 10,
   "metadata": {},
   "outputs": [
    {
     "name": "stdout",
     "output_type": "stream",
     "text": [
      "[1, 2, 3, 8, 5, 6, 14, 8, 18, 10]\n"
     ]
    }
   ],
   "source": [
    "#Escribe una lista que tenga los números de 1 al 10. Luego, debes hacer que los datos que están en las posiciones 4, 7 y 9 sean multiplicados por 2; por último, mostrar la lista nueva con los nuevos datos\n",
    "\n",
    "lista = [1 , 2 , 3 , 4 , 5 , 6 , 7 , 8 , 9 , 10]\n",
    "\n",
    "lista[3] *= 2\n",
    "lista[6] *= 2\n",
    "lista[8] *= 2\n",
    "\n",
    "print(lista)"
   ]
  }
 ],
 "metadata": {
  "kernelspec": {
   "display_name": "Python 3.10.4 64-bit",
   "language": "python",
   "name": "python3"
  },
  "language_info": {
   "codemirror_mode": {
    "name": "ipython",
    "version": 3
   },
   "file_extension": ".py",
   "mimetype": "text/x-python",
   "name": "python",
   "nbconvert_exporter": "python",
   "pygments_lexer": "ipython3",
   "version": "3.10.4"
  },
  "orig_nbformat": 4,
  "vscode": {
   "interpreter": {
    "hash": "26de051ba29f2982a8de78e945f0abaf191376122a1563185a90213a26c5da77"
   }
  }
 },
 "nbformat": 4,
 "nbformat_minor": 2
}
