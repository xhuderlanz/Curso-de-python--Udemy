{
 "cells": [
  {
   "cell_type": "markdown",
   "metadata": {},
   "source": [
    "# Ejercicios del curso Master en Python 3.X. Aprende de 0 a EXPERTO\n",
    "\n",
    "## Sección 14: Funciones\n",
    "\n",
    "Documentación en:\n",
    "    D:\\DocumentosD\\Python\\Curso-de-python--Udemy-\\Documentación\\9. Funciones"
   ]
  },
  {
   "cell_type": "markdown",
   "metadata": {},
   "source": [
    "## Ejercicio 1\n",
    "\n",
    "Crear un programa que tenga una lista, luego crear una funcion con la cual se van a pedir numeros al usuario para agregar a la lista. Debes crear una segunda funcion en donde se ordenen los numeros pares e impares dentro de dos listas nuevas"
   ]
  },
  {
   "cell_type": "code",
   "execution_count": 10,
   "metadata": {},
   "outputs": [
    {
     "name": "stdout",
     "output_type": "stream",
     "text": [
      "[1, 2, 3, 4, 5, 6, 7]\n",
      "[2, 4, 6]\n",
      "[1, 3, 5, 7]\n"
     ]
    }
   ],
   "source": [
    "lista = []\n",
    "\n",
    "def agregar(list):\n",
    "    new = int(input('Ingrese un número: '))\n",
    "    list.append(new)\n",
    "    return list\n",
    "\n",
    "def ordenar(list):\n",
    "    list_par, list_impar = [], []\n",
    "    \n",
    "    for i in list:\n",
    "        if i % 2 == 0:\n",
    "            list_par.append(i)\n",
    "        else:\n",
    "            list_impar.append(i)\n",
    "    \n",
    "    return list_par, list_impar\n",
    "\n",
    "for i in range(1,8):\n",
    "    agregar(lista)\n",
    "print(lista)\n",
    "\n",
    "par, impar = ordenar(lista)\n",
    "\n",
    "print(par)\n",
    "print(impar)\n",
    "\n"
   ]
  },
  {
   "cell_type": "markdown",
   "metadata": {},
   "source": [
    "#### Solución del curso"
   ]
  },
  {
   "cell_type": "code",
   "execution_count": 11,
   "metadata": {},
   "outputs": [
    {
     "name": "stdout",
     "output_type": "stream",
     "text": [
      "[2.0, 4.0, 6.0]\n",
      "[1.0, 3.0, 5.0]\n"
     ]
    }
   ],
   "source": [
    "#Crear un programa que tenga una lista, luego crear una funcion con la cual se van a pedir numeros al usuario para agregar a la lista. Debes crear una segunda funcion en donde se ordenen los numeros pares e impares dentro de dos listas nuevas\n",
    "\n",
    "lista = []\n",
    "num = 0\n",
    "\n",
    "def pedir():\n",
    "    i = 0 \n",
    "    while i <= 5:\n",
    "        num = float(input(\"Ingresa un numero: \"))\n",
    "        lista.append(num)\n",
    "        i += 1\n",
    "\n",
    "def ordenar():\n",
    "    lista.sort()\n",
    "    pares = []\n",
    "    impares = []\n",
    "    for i in lista:\n",
    "        if i % 2 == 0:\n",
    "            pares.append(i)\n",
    "        else:\n",
    "            impares.append(i)\n",
    "    print(pares)\n",
    "    print(impares)\n",
    "\n",
    "pedir()\n",
    "ordenar()"
   ]
  },
  {
   "cell_type": "markdown",
   "metadata": {},
   "source": [
    "## Ejercicio 2\n",
    "\n",
    "Escribir una función que reciba un número entero positivo y devuelva su factorial."
   ]
  },
  {
   "cell_type": "code",
   "execution_count": 46,
   "metadata": {},
   "outputs": [
    {
     "name": "stdout",
     "output_type": "stream",
     "text": [
      "El factorial de 5 es: 120\n"
     ]
    }
   ],
   "source": [
    "def fact():\n",
    "    num = int(input('Introduzca un número: '))\n",
    "    numf = 1\n",
    "    for i in range(1, num+1):\n",
    "        numf *=  i\n",
    "\n",
    "    print('El factorial de {} es: {}'.format(num, numf))\n",
    "    return numf    \n",
    "        \n",
    "a = fact()"
   ]
  },
  {
   "cell_type": "markdown",
   "metadata": {},
   "source": [
    "#### solución del curso"
   ]
  },
  {
   "cell_type": "code",
   "execution_count": null,
   "metadata": {},
   "outputs": [],
   "source": [
    "#Escribir una función que reciba un número entero positivo y devuelva su fatorial.\n",
    "\n",
    "def factorial():\n",
    "    from math import factorial\n",
    "    num = int(input(\"Ingresa tu numero entero y positivo: \"))\n",
    "    if num > 0:\n",
    "        print(factorial(num))\n",
    "    else:\n",
    "        print(\"El numero es negativo y no podemos proceder\")\n",
    "\n",
    "factorial()"
   ]
  }
 ],
 "metadata": {
  "kernelspec": {
   "display_name": "Python 3.10.4 64-bit",
   "language": "python",
   "name": "python3"
  },
  "language_info": {
   "codemirror_mode": {
    "name": "ipython",
    "version": 3
   },
   "file_extension": ".py",
   "mimetype": "text/x-python",
   "name": "python",
   "nbconvert_exporter": "python",
   "pygments_lexer": "ipython3",
   "version": "3.10.4"
  },
  "orig_nbformat": 4,
  "vscode": {
   "interpreter": {
    "hash": "26de051ba29f2982a8de78e945f0abaf191376122a1563185a90213a26c5da77"
   }
  }
 },
 "nbformat": 4,
 "nbformat_minor": 2
}
