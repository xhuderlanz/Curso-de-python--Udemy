{
 "cells": [
  {
   "cell_type": "markdown",
   "metadata": {},
   "source": [
    "# Ejercicios del curso Master en Python 3.X. Aprende de 0 a EXPERTO\n",
    "\n",
    "## Sección 14: Funciones\n",
    "\n",
    "Documentación en:\n",
    "    D:\\DocumentosD\\Python\\Curso-de-python--Udemy-\\Documentación\\9. Funciones"
   ]
  },
  {
   "cell_type": "markdown",
   "metadata": {},
   "source": [
    "## Ejercicio 1\n",
    "\n",
    "Crear un programa que tenga una lista, luego crear una funcion con la cual se van a pedir numeros al usuario para agregar a la lista. Debes crear una segunda funcion en donde se ordenen los numeros pares e impares dentro de dos listas nuevas"
   ]
  },
  {
   "cell_type": "code",
   "execution_count": 10,
   "metadata": {},
   "outputs": [
    {
     "name": "stdout",
     "output_type": "stream",
     "text": [
      "[1, 2, 3, 4, 5, 6, 7]\n",
      "[2, 4, 6]\n",
      "[1, 3, 5, 7]\n"
     ]
    }
   ],
   "source": [
    "lista = []\n",
    "\n",
    "def agregar(list):\n",
    "    new = int(input('Ingrese un número: '))\n",
    "    list.append(new)\n",
    "    return list\n",
    "\n",
    "def ordenar(list):\n",
    "    list_par, list_impar = [], []\n",
    "    \n",
    "    for i in list:\n",
    "        if i % 2 == 0:\n",
    "            list_par.append(i)\n",
    "        else:\n",
    "            list_impar.append(i)\n",
    "    \n",
    "    return list_par, list_impar\n",
    "\n",
    "for i in range(1,8):\n",
    "    agregar(lista)\n",
    "print(lista)\n",
    "\n",
    "par, impar = ordenar(lista)\n",
    "\n",
    "print(par)\n",
    "print(impar)\n",
    "\n"
   ]
  },
  {
   "cell_type": "markdown",
   "metadata": {},
   "source": [
    "#### Solución del curso"
   ]
  },
  {
   "cell_type": "code",
   "execution_count": 11,
   "metadata": {},
   "outputs": [
    {
     "name": "stdout",
     "output_type": "stream",
     "text": [
      "[2.0, 4.0, 6.0]\n",
      "[1.0, 3.0, 5.0]\n"
     ]
    }
   ],
   "source": [
    "#Crear un programa que tenga una lista, luego crear una funcion con la cual se van a pedir numeros al usuario para agregar a la lista. Debes crear una segunda funcion en donde se ordenen los numeros pares e impares dentro de dos listas nuevas\n",
    "\n",
    "lista = []\n",
    "num = 0\n",
    "\n",
    "def pedir():\n",
    "    i = 0 \n",
    "    while i <= 5:\n",
    "        num = float(input(\"Ingresa un numero: \"))\n",
    "        lista.append(num)\n",
    "        i += 1\n",
    "\n",
    "def ordenar():\n",
    "    lista.sort()\n",
    "    pares = []\n",
    "    impares = []\n",
    "    for i in lista:\n",
    "        if i % 2 == 0:\n",
    "            pares.append(i)\n",
    "        else:\n",
    "            impares.append(i)\n",
    "    print(pares)\n",
    "    print(impares)\n",
    "\n",
    "pedir()\n",
    "ordenar()"
   ]
  },
  {
   "cell_type": "markdown",
   "metadata": {},
   "source": [
    "## Ejercicio 2\n",
    "\n",
    "Escribir una función que reciba un número entero positivo y devuelva su factorial."
   ]
  },
  {
   "cell_type": "code",
   "execution_count": 46,
   "metadata": {},
   "outputs": [
    {
     "name": "stdout",
     "output_type": "stream",
     "text": [
      "El factorial de 5 es: 120\n"
     ]
    }
   ],
   "source": [
    "def fact():\n",
    "    num = int(input('Introduzca un número: '))\n",
    "    numf = 1\n",
    "    for i in range(1, num+1):\n",
    "        numf *=  i\n",
    "\n",
    "    print('El factorial de {} es: {}'.format(num, numf))\n",
    "    return numf    \n",
    "        \n",
    "a = fact()"
   ]
  },
  {
   "cell_type": "markdown",
   "metadata": {},
   "source": [
    "#### solución del curso"
   ]
  },
  {
   "cell_type": "code",
   "execution_count": null,
   "metadata": {},
   "outputs": [],
   "source": [
    "#Escribir una función que reciba un número entero positivo y devuelva su fatorial.\n",
    "\n",
    "def factorial():\n",
    "    from math import factorial\n",
    "    num = int(input(\"Ingresa tu numero entero y positivo: \"))\n",
    "    if num > 0:\n",
    "        print(factorial(num))\n",
    "    else:\n",
    "        print(\"El numero es negativo y no podemos proceder\")\n",
    "\n",
    "factorial()"
   ]
  },
  {
   "cell_type": "markdown",
   "metadata": {},
   "source": [
    "## Ejercicio 3\n",
    "\n",
    "Crear una funcion que pida dos numeros. Si el primero es mayor al segundo, el programa debe retornar el valor 1; si el segundo es mayor al primero, debe retornar -1; si ambos son iguales, debe retornar 0"
   ]
  },
  {
   "cell_type": "code",
   "execution_count": 51,
   "metadata": {},
   "outputs": [
    {
     "name": "stdout",
     "output_type": "stream",
     "text": [
      "0\n"
     ]
    }
   ],
   "source": [
    "def rev(num1, num2):\n",
    "    value = 0\n",
    "    if num1 > num2:\n",
    "        value = 1\n",
    "    elif num1 == num2:\n",
    "        value = 0\n",
    "    else:\n",
    "        value = -1\n",
    "        \n",
    "    return value\n",
    "\n",
    "print(rev(2,2))"
   ]
  },
  {
   "cell_type": "markdown",
   "metadata": {},
   "source": [
    "#### Solución del curso"
   ]
  },
  {
   "cell_type": "code",
   "execution_count": null,
   "metadata": {},
   "outputs": [],
   "source": [
    "#Crear una funcion que pida dos numeros. Si el primero es mayor al segundo, el programa debe retornar el valor 1; si el segundo es mayor al primero, debe retornar -1; si ambos son iguales, debe retornar 0\n",
    "\n",
    "def numeros():\n",
    "    num1 = float(input(\"Ingrese el primer numero: \"))\n",
    "    num2 = float(input(\"Ingrese el segundo numero: \"))\n",
    "    if num1 > num2:\n",
    "        return 1\n",
    "    elif num2 > num1:\n",
    "        return -1\n",
    "    else:\n",
    "        return 0\n",
    "\n",
    "print(numeros())"
   ]
  },
  {
   "cell_type": "markdown",
   "metadata": {},
   "source": [
    "## Ejercicio 4\n",
    "\n",
    "Escribir una función que calcule el total de una factura tras aplicarle el IVA. La función debe recibir la cantidad sin IVA y el porcentaje de IVA a aplicar, y devolver el total de la factura. Si se invoca la función sin pasarle el porcentaje de IVA, deberá aplicar un 21%."
   ]
  },
  {
   "cell_type": "code",
   "execution_count": 54,
   "metadata": {},
   "outputs": [
    {
     "name": "stdout",
     "output_type": "stream",
     "text": [
      "44.94\n",
      "50.82\n"
     ]
    }
   ],
   "source": [
    "def total_iva(total, iva = 21):\n",
    "    total += (total*iva)/100\n",
    "    return total\n",
    "\n",
    "print(total_iva(42,7))    \n",
    "print(total_iva(42))    \n",
    "\n",
    "    "
   ]
  },
  {
   "cell_type": "markdown",
   "metadata": {},
   "source": [
    "#### Solución del curso"
   ]
  },
  {
   "cell_type": "code",
   "execution_count": 56,
   "metadata": {},
   "outputs": [
    {
     "name": "stdout",
     "output_type": "stream",
     "text": [
      "El total de su monto es:  44.94\n"
     ]
    }
   ],
   "source": [
    "#Escribir una función que calcule el total de una factura tras aplicarle el IVA. La función debe recibir la cantidad sin IVA y el porcentaje de IVA a aplicar, y devolver el total de la factura. Si se invoca la función sin pasarle el porcentaje de IVA, deberá aplicar un 21%.\n",
    "\n",
    "def total():\n",
    "    monto = float(input(\"Ingresa el valor del producto que estas pagando: \"))\n",
    "    iva = int(input(\"Ingresa el valor del IVA: \"))\n",
    "\n",
    "    if iva != 0:\n",
    "        if iva > 0:\n",
    "            totalPagar = ((monto * iva) / 100) + monto \n",
    "            return totalPagar \n",
    "        else:\n",
    "            return \"El monto de IVA es negativo. No podemos avanzar\"\n",
    "    else:\n",
    "        totalPagar = (monto * 0.21) + monto\n",
    "        return totalPagar\n",
    "\n",
    "print(\"El total de su monto es: \", total())\n"
   ]
  },
  {
   "cell_type": "markdown",
   "metadata": {},
   "source": [
    "## Ejercicio 5\n",
    "\n",
    "Crear un programa que tenga dos funciones, una que contenga el area de un cuadrado con argumentos de base y altura; y la otra el area de un circulo con argumento de radio"
   ]
  },
  {
   "cell_type": "code",
   "execution_count": 61,
   "metadata": {},
   "outputs": [
    {
     "name": "stdout",
     "output_type": "stream",
     "text": [
      "El área del cuadrado con base 10 y altura 10 es: 100\n",
      "El área del circulo con radio 10 es: 314.1592653589793\n"
     ]
    }
   ],
   "source": [
    "import math\n",
    "\n",
    "def cuadrado(base, altura):\n",
    "    area = base*altura\n",
    "    print('El área del cuadrado con base {} y altura {} es: {}'.format(base, altura, area))\n",
    "    \n",
    "def circulo(radio):\n",
    "    area = math.pi * math.pow(radio, 2)\n",
    "    print('El área del circulo con radio {} es: {}'.format(radio, area))\n",
    "    \n",
    "cuadrado(10, 10)\n",
    "circulo(10)"
   ]
  },
  {
   "cell_type": "markdown",
   "metadata": {},
   "source": [
    "#### Solución del curso"
   ]
  },
  {
   "cell_type": "code",
   "execution_count": 60,
   "metadata": {},
   "outputs": [
    {
     "name": "stdout",
     "output_type": "stream",
     "text": [
      "100\n",
      "314.0\n"
     ]
    }
   ],
   "source": [
    "#Crear un programa que tenga dos funciones, una que contenga el area de un cuadrado con argumentos de base y altura; y la otra el area de un circulo con argumento de radio\n",
    "\n",
    "def areaCuadrado(base , altura):\n",
    "    area = base * altura\n",
    "    print(area)\n",
    "\n",
    "areaCuadrado(10 , 10)\n",
    "\n",
    "def areaCirculo(radio):\n",
    "    return pow(radio , 2) * 3.14\n",
    "\n",
    "print(areaCirculo(10))"
   ]
  },
  {
   "cell_type": "markdown",
   "metadata": {},
   "source": [
    "## Ejercicio 6\n",
    "\n",
    "Escribir una función que reciba una muestra de números en una lista y devuelva su medida."
   ]
  },
  {
   "cell_type": "code",
   "execution_count": 64,
   "metadata": {},
   "outputs": [
    {
     "name": "stdout",
     "output_type": "stream",
     "text": [
      "5\n"
     ]
    }
   ],
   "source": [
    "def medida(*lista):\n",
    "    lista = list(lista)\n",
    "    print(len(lista))\n",
    "    \n",
    "medida(2 , 3 , 4 , 10 , 20)"
   ]
  },
  {
   "cell_type": "markdown",
   "metadata": {},
   "source": [
    "#### Solución del curso"
   ]
  },
  {
   "cell_type": "code",
   "execution_count": 65,
   "metadata": {},
   "outputs": [
    {
     "name": "stdout",
     "output_type": "stream",
     "text": [
      "5\n",
      "2\n",
      "3\n",
      "4\n",
      "10\n",
      "20\n",
      "<class 'tuple'>\n",
      "5\n"
     ]
    }
   ],
   "source": [
    "#Escribir una función que reciba una muestra de números en una tupla y devuelva su medida.\n",
    "\n",
    "def medida(*tupla):\n",
    "    print(len(tupla))\n",
    "    for i in tupla:\n",
    "        print(i)\n",
    "    print(type(tupla))\n",
    "    return len(tupla)\n",
    "\n",
    "print(medida(2 , 3 , 4 , 10 , 20))"
   ]
  }
 ],
 "metadata": {
  "kernelspec": {
   "display_name": "Python 3.10.4 64-bit",
   "language": "python",
   "name": "python3"
  },
  "language_info": {
   "codemirror_mode": {
    "name": "ipython",
    "version": 3
   },
   "file_extension": ".py",
   "mimetype": "text/x-python",
   "name": "python",
   "nbconvert_exporter": "python",
   "pygments_lexer": "ipython3",
   "version": "3.10.4"
  },
  "orig_nbformat": 4,
  "vscode": {
   "interpreter": {
    "hash": "26de051ba29f2982a8de78e945f0abaf191376122a1563185a90213a26c5da77"
   }
  }
 },
 "nbformat": 4,
 "nbformat_minor": 2
}
