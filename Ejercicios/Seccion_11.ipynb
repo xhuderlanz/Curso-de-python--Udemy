{
 "cells": [
  {
   "cell_type": "markdown",
   "metadata": {},
   "source": [
    "# Ejercicios del curso Master en Python 3.X. Aprende de 0 a EXPERTO\n",
    "\n",
    "## Sección 11: Estructuras de datos: Diccionarios\n",
    "\n",
    "Documentación en:\n",
    "    D:\\DocumentosD\\Python\\Curso-de-python--Udemy-\\Documentación\\7. Estructura de datos\\Diccionarios"
   ]
  },
  {
   "cell_type": "markdown",
   "metadata": {},
   "source": [
    "## Ejercicio 1\n",
    "\n",
    "En el siguiente diccionario se encuentran capitales de los paises en el mundo, debes realizar un programa que pida un pais al usuario, y muestre la capital de ese pais, en dado caso el pais no este en el diccionario, se debe mostrar un mensaje diciendo que ese pais no se encuentra.\n",
    "\n",
    "{\"Guatemala\": \"Ciudad de Guatemala\", \"El Salvador\": \"San Salvador\", \"Honduras\": \"Honduras\",\"Nicaragua\": \"Managua\", \"Costa Rica\": \"San Jose\", \"Panama\": \"Panama\", \"Argentina\": \"Buenos Aires\", \"Colombia\": \"Bogota\", \"Venezuela\": \"Caracas\", \"España\": \"Madrid\"}"
   ]
  },
  {
   "cell_type": "code",
   "execution_count": 5,
   "metadata": {},
   "outputs": [
    {
     "name": "stdout",
     "output_type": "stream",
     "text": [
      "La capital de Equador no está en el diccionario\n"
     ]
    }
   ],
   "source": [
    "dic = {\"Guatemala\": \"Ciudad de Guatemala\", \"El Salvador\": \"San Salvador\", \"Honduras\": \"Honduras\",\"Nicaragua\": \"Managua\", \"Costa Rica\": \"San Jose\", \"Panama\": \"Panama\", \"Argentina\": \"Buenos Aires\", \"Colombia\": \"Bogota\", \"Venezuela\": \"Caracas\", \"España\": \"Madrid\"}\n",
    "\n",
    "pais = input('Escriba un pais: ').capitalize()\n",
    "\n",
    "if pais in dic.keys():\n",
    "    print('La capital de {} es: {}'.format(pais, dic[pais]))\n",
    "else:\n",
    "    print('La capital de {} no está en el diccionario'.format(pais))\n"
   ]
  },
  {
   "cell_type": "markdown",
   "metadata": {},
   "source": [
    "#### Solución del curso"
   ]
  },
  {
   "cell_type": "code",
   "execution_count": 6,
   "metadata": {},
   "outputs": [
    {
     "name": "stdout",
     "output_type": "stream",
     "text": [
      "Panama\n"
     ]
    }
   ],
   "source": [
    "#En el siguiente diccionario se encuentran capitales de los paises en el mundo, debes realizar un programa que pida un pais al usuario, y muestre la capital de ese pais, en dado caso el pais no este en el diccionario, se debe mostrar un mensaje diciendo que ese pais no se encuentra.\n",
    "\n",
    "#{\"Guatemala\": \"Ciudad de Guatemala\", \"Honduras\": \"Honduras\",\"Nicaragua\": \"Managua\", \"Costa Rica\": \"San Jose\", \"Panama\": \"Panama\", \"Argentina\": \"Buenos Aires\", \"Colombia\": \"Bogota\", \"Venezuela\": \"Caracas\", \"España\": \"Madrid\"}\n",
    "\n",
    "diccionario = {\"Guatemala\": \"Ciudad de Guatemala\", \"Honduras\": \"Tegucigalpa\",\"Nicaragua\": \"Managua\", \"Costa Rica\": \"San Jose\", \"Panama\": \"Panama\", \"Argentina\": \"Buenos Aires\", \"Colombia\": \"Bogota\", \"Venezuela\": \"Caracas\", \"España\": \"Madrid\" , \"El Salvador\" : \"San Salvador\"}\n",
    "\n",
    "pais = input('Ingrese un pais para conocer su capital: ')\n",
    "letra = pais.title() in diccionario\n",
    "\n",
    "if letra:\n",
    "    print(diccionario[pais.title()])\n",
    "else:\n",
    "    print(\"El pais no se encuentra en el diccionario\")"
   ]
  },
  {
   "cell_type": "markdown",
   "metadata": {},
   "source": [
    "## Ejercicio 2\n",
    "\n",
    "Con el siguiente diccionario, debes crear un programa que pregunte al usuario por un número; el programa debe imprimir el jugador al que hace referencia ese número\n",
    "\n",
    "{\n",
    "\n",
    "    1 : \"Casillas\", 15 : \"Ramos\",\n",
    "\n",
    "    3 : \"Pique\", 5 : \"Puyol\",\n",
    "\n",
    "    11 : \"Capdevila\", 14 : \"Xabi Alonso\",\n",
    "\n",
    "    16 : \"Busquets\", 8 : \"Xavi Hernandez\",\n",
    "\n",
    "    18 : \"Pedrito\", 6 : \"Iniesta\",\n",
    "\n",
    "    7 : \"Villa\"\n",
    "\n",
    "}"
   ]
  },
  {
   "cell_type": "code",
   "execution_count": 11,
   "metadata": {},
   "outputs": [
    {
     "name": "stdout",
     "output_type": "stream",
     "text": [
      "El jugador con número 3 es Pique\n"
     ]
    }
   ],
   "source": [
    "jugador = {\n",
    "\n",
    "    1 : \"Casillas\", 15 : \"Ramos\",\n",
    "\n",
    "    3 : \"Pique\", 5 : \"Puyol\",\n",
    "\n",
    "    11 : \"Capdevila\", 14 : \"Xabi Alonso\",\n",
    "\n",
    "    16 : \"Busquets\", 8 : \"Xavi Hernandez\",\n",
    "\n",
    "    18 : \"Pedrito\", 6 : \"Iniesta\",\n",
    "\n",
    "    7 : \"Villa\"\n",
    "\n",
    "}\n",
    "\n",
    "numero = int(input('Jugador a elegir: '))\n",
    "\n",
    "if numero in jugador.keys():\n",
    "    print('El jugador con número {} es {}'.format(numero, jugador[numero]))\n",
    "else:\n",
    "    print('No hay jugador con número {}'.format(numero))"
   ]
  },
  {
   "cell_type": "markdown",
   "metadata": {},
   "source": [
    "#### Solución del curso\n"
   ]
  },
  {
   "cell_type": "code",
   "execution_count": 9,
   "metadata": {},
   "outputs": [
    {
     "name": "stdout",
     "output_type": "stream",
     "text": [
      "Casillas\n"
     ]
    }
   ],
   "source": [
    "#Con el siguiente diccionario, debes crear un programa que pregunte al usuario por un número; el programa debe imprimir el jugador al que hace referencia ese número\n",
    "\n",
    "diccionario = {\n",
    "    1 : \"Casillas\", 15 : \"Ramos\",\n",
    "\n",
    "    3 : \"Pique\", 5 : \"Puyol\",\n",
    "\n",
    "    11 : \"Capdevila\", 14 : \"Xabi Alonso\",\n",
    "\n",
    "    16 : \"Busquets\", 8 : \"Xavi Hernandez\",\n",
    "\n",
    "    18 : \"Pedrito\", 6 : \"Iniesta\",\n",
    "\n",
    "    7 : \"Villa\"\n",
    "}\n",
    "\n",
    "OpcionJugador = int(input(\"Ingresa el numero de jugador: \"))\n",
    "\n",
    "if OpcionJugador in diccionario:\n",
    "    print(diccionario[OpcionJugador])\n",
    "else:\n",
    "    print(\"No es un numero dentro del diccionario\")"
   ]
  }
 ],
 "metadata": {
  "kernelspec": {
   "display_name": "Python 3.10.4 64-bit",
   "language": "python",
   "name": "python3"
  },
  "language_info": {
   "codemirror_mode": {
    "name": "ipython",
    "version": 3
   },
   "file_extension": ".py",
   "mimetype": "text/x-python",
   "name": "python",
   "nbconvert_exporter": "python",
   "pygments_lexer": "ipython3",
   "version": "3.10.4"
  },
  "orig_nbformat": 4,
  "vscode": {
   "interpreter": {
    "hash": "26de051ba29f2982a8de78e945f0abaf191376122a1563185a90213a26c5da77"
   }
  }
 },
 "nbformat": 4,
 "nbformat_minor": 2
}
