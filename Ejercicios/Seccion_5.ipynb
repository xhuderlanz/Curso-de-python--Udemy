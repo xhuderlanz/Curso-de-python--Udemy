{
 "cells": [
  {
   "cell_type": "code",
   "execution_count": null,
   "metadata": {},
   "outputs": [],
   "source": [
    "from IPython.display import FileLink, FileLinks\n",
    "FileLink('D:\\DocumentosD\\Python\\Curso-de-python--Udemy-\\Documentación\\2. Operadores aritméticos')"
   ]
  },
  {
   "cell_type": "markdown",
   "metadata": {},
   "source": [
    "# Ejercicios del curso Master en Python 3.X. Aprende de 0 a EXPERTO\n",
    "\n",
    "## Sección 5 - Cadenas de texto\n",
    "\n",
    "Documentación en:\n",
    "\n",
    "    D:\\DocumentosD\\Python\\Curso-de-python--Udemy-\\Documentación\\3. Cadenas de texto    \n",
    "    \n",
    "### Librerias"
   ]
  },
  {
   "cell_type": "code",
   "execution_count": null,
   "metadata": {},
   "outputs": [],
   "source": []
  },
  {
   "cell_type": "markdown",
   "metadata": {},
   "source": [
    "### Ejercicio 1\n",
    "\n",
    "Crear un programa, que tenga una variable con la cadena “Te quiero solo como amigo”, y muestre la siguiente información:\n",
    "\n",
    "• Imprima los dos primeros caracteres.\n",
    "\n",
    "• Imprima los tres últimos caracteres.\n",
    "\n",
    "• Imprima dicha cadena cada dos caracteres. Ej.: Si la cadena fuera “recta” debería imprimir rca\n",
    "\n",
    "• Dicha cadena en sentido inverso. Ej.: Si la cadena fuera hola mundo! debe imprimir !odnum aloh\n",
    "\n",
    "• Imprima la cadena en un sentido y en sentido inverso. Ej: Si la cadena es “reflejo” imprime reflejoojelfer.\n",
    "\n"
   ]
  },
  {
   "cell_type": "code",
   "execution_count": 1,
   "metadata": {},
   "outputs": [
    {
     "name": "stdout",
     "output_type": "stream",
     "text": [
      "Te\n",
      "igo\n",
      "25\n"
     ]
    },
    {
     "ename": "IndexError",
     "evalue": "string index out of range",
     "output_type": "error",
     "traceback": [
      "\u001b[1;31m---------------------------------------------------------------------------\u001b[0m",
      "\u001b[1;31mIndexError\u001b[0m                                Traceback (most recent call last)",
      "\u001b[1;32md:\\DocumentosD\\Python\\Curso-de-python--Udemy-\\Seccion_5.ipynb Celda 5\u001b[0m in \u001b[0;36m<cell line: 14>\u001b[1;34m()\u001b[0m\n\u001b[0;32m     <a href='vscode-notebook-cell:/d%3A/DocumentosD/Python/Curso-de-python--Udemy-/Seccion_5.ipynb#ch0000004?line=15'>16</a>\u001b[0m     \u001b[39mif\u001b[39;00m count \u001b[39m==\u001b[39m \u001b[39m1\u001b[39m:\n\u001b[0;32m     <a href='vscode-notebook-cell:/d%3A/DocumentosD/Python/Curso-de-python--Udemy-/Seccion_5.ipynb#ch0000004?line=16'>17</a>\u001b[0m         new\u001b[39m.\u001b[39mappend(texto[i])\n\u001b[1;32m---> <a href='vscode-notebook-cell:/d%3A/DocumentosD/Python/Curso-de-python--Udemy-/Seccion_5.ipynb#ch0000004?line=17'>18</a>\u001b[0m         new\u001b[39m.\u001b[39mappend(texto[i \u001b[39m+\u001b[39;49m \u001b[39m1\u001b[39;49m])\n\u001b[0;32m     <a href='vscode-notebook-cell:/d%3A/DocumentosD/Python/Curso-de-python--Udemy-/Seccion_5.ipynb#ch0000004?line=18'>19</a>\u001b[0m         count \u001b[39m=\u001b[39m \u001b[39m0\u001b[39m\n\u001b[0;32m     <a href='vscode-notebook-cell:/d%3A/DocumentosD/Python/Curso-de-python--Udemy-/Seccion_5.ipynb#ch0000004?line=19'>20</a>\u001b[0m \u001b[39mprint\u001b[39m(new)\n",
      "\u001b[1;31mIndexError\u001b[0m: string index out of range"
     ]
    }
   ],
   "source": [
    "texto = \"Te quiero solo como amigo\"\n",
    "\n",
    "# dos primeros caracteres\n",
    "print(texto[:2])\n",
    "\n",
    "#tres ultimos caracteres\n",
    "print(texto[-3:])\n",
    "\n",
    "#cada  caracteres\n",
    "#no supe hacerlo\n",
    "print(len(texto))\n",
    "count = 0\n",
    "new = []\n",
    "for i in range(len(texto)):\n",
    "    count += 1\n",
    "    if count == 1:\n",
    "        new.append(texto[i])\n",
    "        new.append(texto[i + 1])\n",
    "        count = 0\n",
    "print(new)\n",
    "\n",
    "\n",
    "#cadena inversa\n",
    "# no se\n",
    "\n",
    "#sentido inversoy normal no se\n",
    "\n"
   ]
  },
  {
   "cell_type": "markdown",
   "metadata": {},
   "source": [
    "Resolución ejercicio 1"
   ]
  },
  {
   "cell_type": "code",
   "execution_count": 2,
   "metadata": {},
   "outputs": [
    {
     "name": "stdout",
     "output_type": "stream",
     "text": [
      "Te\n",
      "igo\n",
      "T ueosl ooaio\n",
      "ogima omoc olos oreiuq eT\n",
      "Te quiero solo como amigoogima omoc olos oreiuq eT\n"
     ]
    }
   ],
   "source": [
    "cadena = \"Te quiero solo como amigo\"\n",
    "\n",
    "print(cadena[0 : 2])\n",
    "print(cadena[-3 : ])\n",
    "print(cadena[: : 2])\n",
    "print(cadena[: : -1])\n",
    "print(cadena + cadena[: : -1])"
   ]
  },
  {
   "cell_type": "markdown",
   "metadata": {},
   "source": [
    "### Ejercicio 2\n",
    "\n",
    "Crear un programa que tenga una variable con la cadena “Separado” y un carácter de coma (,); e inserte el carácter entre cada letra de la cadena. Ej: separar y , debería devolver s,e,p,a,r,a,r\n",
    "\n",
    "Pista: Debes utilizar un método de las cadenas llamado “Replace”, recuerda que la posición de los caracteres empieza en 0."
   ]
  },
  {
   "cell_type": "code",
   "execution_count": 38,
   "metadata": {},
   "outputs": [
    {
     "name": "stdout",
     "output_type": "stream",
     "text": [
      "s ,e,p,a,r,a,d,o,\n"
     ]
    }
   ],
   "source": [
    "texto = 'Separado'\n",
    "\n",
    "print('s',texto[1:].replace('',','))"
   ]
  },
  {
   "cell_type": "code",
   "execution_count": 36,
   "metadata": {},
   "outputs": [
    {
     "name": "stdout",
     "output_type": "stream",
     "text": [
      "eparado\n",
      "S ,e,p,a,r,a,d,o,\n"
     ]
    }
   ],
   "source": [
    "#Crear un programa que tenga una variable con la cadena “Separado” y un carácter de coma (,); e inserte el carácter entre cada letra de la cadena. Ej: separar y , debería devolver s,e,p,a,r,a,r\n",
    "\n",
    "#Pista: Debes utilizar un método de las cadenas llamado “Replace”, recuerda que la posición de los caracteres empieza en 0.\n",
    "\n",
    "palabra = \"eparado\"\n",
    "print(palabra)\n",
    "\n",
    "reemplazar = palabra.replace(\"\" , \",\")\n",
    "print(\"S\",reemplazar)"
   ]
  },
  {
   "cell_type": "code",
   "execution_count": null,
   "metadata": {},
   "outputs": [],
   "source": []
  }
 ],
 "metadata": {
  "kernelspec": {
   "display_name": "Python 3.10.4 64-bit",
   "language": "python",
   "name": "python3"
  },
  "language_info": {
   "codemirror_mode": {
    "name": "ipython",
    "version": 3
   },
   "file_extension": ".py",
   "mimetype": "text/x-python",
   "name": "python",
   "nbconvert_exporter": "python",
   "pygments_lexer": "ipython3",
   "version": "3.10.4"
  },
  "orig_nbformat": 4,
  "vscode": {
   "interpreter": {
    "hash": "26de051ba29f2982a8de78e945f0abaf191376122a1563185a90213a26c5da77"
   }
  }
 },
 "nbformat": 4,
 "nbformat_minor": 2
}
