{
 "cells": [
  {
   "cell_type": "markdown",
   "metadata": {},
   "source": [
    "# Ejercicios del curso Master en Python 3.X. Aprende de 0 a EXPERTO\n",
    "\n",
    "## Sección 8: Condicionales\n",
    "\n",
    "Documentación en:\n",
    "    D:\\DocumentosD\\Python\\Curso-de-python--Udemy-\\Documentación\\6. Condicionales"
   ]
  },
  {
   "cell_type": "code",
   "execution_count": 22,
   "metadata": {},
   "outputs": [
    {
     "name": "stdout",
     "output_type": "stream",
     "text": [
      "l no es vocal\n"
     ]
    }
   ],
   "source": [
    "dato = input('Introduzca una letra o vocal')\n",
    "\n",
    "vocales = ['a', 'e', 'i', 'o', 'u']\n",
    "for op in range(len(vocales)):\n",
    "    vocales.append(vocales[op].upper())\n",
    "\n",
    "for op in vocales:\n",
    "    if dato == op:\n",
    "        x = 1\n",
    "        break\n",
    "    else:\n",
    "        x = 0\n",
    "\n",
    "\n",
    "if x == 1:\n",
    "    print('{} es vocal'.format(dato))\n",
    "else:\n",
    "    print('{} no es vocal'.format(dato))"
   ]
  },
  {
   "cell_type": "code",
   "execution_count": 25,
   "metadata": {},
   "outputs": [
    {
     "name": "stdout",
     "output_type": "stream",
     "text": [
      "E es vocal\n"
     ]
    }
   ],
   "source": [
    "dato = input('Introduzca una letra o vocal')\n",
    "\n",
    "if dato.lower() in 'aeiou':\n",
    "    print('{} es vocal'.format(dato))\n",
    "else:\n",
    "    print('{} no es vocal'.format(dato))"
   ]
  },
  {
   "cell_type": "markdown",
   "metadata": {},
   "source": [
    "#### Solución del curso"
   ]
  },
  {
   "cell_type": "code",
   "execution_count": 24,
   "metadata": {},
   "outputs": [
    {
     "name": "stdout",
     "output_type": "stream",
     "text": [
      "NO es una vocal\n"
     ]
    }
   ],
   "source": [
    "#Crear un programa que pida al usuario una letra, y si es vocal, muestre el mensaje \"Es vocal\". Sino, decirle al usuario que no es vocal\n",
    "\n",
    "letra = input(\"Ingresa una letra: \")\n",
    "\n",
    "'''\n",
    "if letra.lower() == \"a\":\n",
    "    print(\"Es una vocal\")\n",
    "else:\n",
    "    if letra.lower() == \"e\":\n",
    "        print(\"Es una vocal\")\n",
    "    else:\n",
    "        if letra.lower() == \"i\":\n",
    "            print(\"Es una vocal\")\n",
    "        else:\n",
    "            if letra.lower() == \"o\":\n",
    "                print(\"Es una vocal\")\n",
    "            else:\n",
    "                if letra.lower() == \"u\":\n",
    "                    print(\"Es una vocal\")\n",
    "                else:\n",
    "                    print(\"NO es una vocal\")'''\n",
    "\n",
    "if letra.lower() in \"aeiou\":\n",
    "    print(\"Es una vocal\")\n",
    "else:\n",
    "    print(\"NO es una vocal\")"
   ]
  },
  {
   "cell_type": "markdown",
   "metadata": {},
   "source": [
    "# Ejercicio 2\n",
    "\n",
    "Escribir un programa que, dado un número entero, muestre su valor absoluto. Nota: para los números positivos su valor absoluto es igual al número (el valor absoluto de 52 es 52), mientras que, para los negativos, su valor absoluto es el número multiplicado por -1 (el valor absoluto de -52 es 52)."
   ]
  },
  {
   "cell_type": "code",
   "execution_count": 31,
   "metadata": {},
   "outputs": [
    {
     "name": "stdout",
     "output_type": "stream",
     "text": [
      "Valor absoluto de 33 es: 33 \n"
     ]
    }
   ],
   "source": [
    "numero = int(input('Introduzca un número: '))\n",
    "\n",
    "if numero >= 0:\n",
    "    print('Valor absoluto de {} es: {} '.format(numero,numero) )\n",
    "else:\n",
    "    print('Valor absoluto de {} es: {} '.format(numero,numero*-1) )\n",
    "\n"
   ]
  },
  {
   "cell_type": "markdown",
   "metadata": {},
   "source": [
    "#### Solución del curso"
   ]
  },
  {
   "cell_type": "code",
   "execution_count": 28,
   "metadata": {},
   "outputs": [
    {
     "name": "stdout",
     "output_type": "stream",
     "text": [
      "El valor absoluto de -33 es:  33\n"
     ]
    }
   ],
   "source": [
    "#Escribir un programa que, dado un número entero, muestre su valor absoluto. Nota: para los números positivos su valor absoluto es igual al número (el valor absoluto de 52 es 52), mientras que, para los negativos, su valor absoluto es el número multiplicado por -1 (el valor absoluto de -52 es 52).\n",
    "\n",
    "numero = int(input(\"Ingresa el numero ENTERO: \"))\n",
    "\n",
    "if numero > 0:\n",
    "    print(\"El valor absoluto de {} es: {}\".format(numero, numero))\n",
    "else:\n",
    "    print(\"El valor absoluto de {} es: \".format(numero), abs(numero))"
   ]
  },
  {
   "cell_type": "markdown",
   "metadata": {},
   "source": [
    "# Ejercicio 3\n",
    "\n",
    "Escribe un programa que pida dos palabras y diga si riman o no. Si coinciden las tres últimas letras tiene que decir que riman. Si coinciden sólo las dos últimas tiene que decir que riman un poco y si no, que no riman."
   ]
  },
  {
   "cell_type": "code",
   "execution_count": 51,
   "metadata": {},
   "outputs": [
    {
     "name": "stdout",
     "output_type": "stream",
     "text": [
      "NO rima, porque tienen menos de 3 caracteres\n"
     ]
    }
   ],
   "source": [
    "p1 = input('Introduzca la primera palabra: ')\n",
    "p2 = input('Introduzca la segunda palabra: ')\n",
    "\n",
    "\n",
    "if p1[-3:].lower() == p2[-3:].lower():\n",
    "    print('Las palabras {} y {} riman'.format(p1,p2))\n",
    "elif p1[-2:].lower() == p2[-2:].lower():\n",
    "    print('Las palabras {} y {} riman un poco'.format(p1,p2))\n",
    "elif len(p1) < 3 or len(p2) < 3:\n",
    "    print(\"NO rima, porque tienen menos de 3 caracteres\")\n",
    "else:\n",
    "    print('Las palabras {} y {} NO riman'.format(p1,p2))\n",
    "\n",
    "\n"
   ]
  },
  {
   "cell_type": "markdown",
   "metadata": {},
   "source": [
    "#### Solución del curso"
   ]
  },
  {
   "cell_type": "code",
   "execution_count": 49,
   "metadata": {},
   "outputs": [
    {
     "name": "stdout",
     "output_type": "stream",
     "text": [
      "NO rima, porque tienen menos de 3 caracteres\n"
     ]
    }
   ],
   "source": [
    "#Escribe un programa que pida dos palabras y diga si riman o no. Si coinciden las tres últimas letras tiene que decir que riman. Si coinciden sólo las dos últimas tiene que decir que riman un poco y si no, que no riman.\n",
    "#extraño <--> tamaño\n",
    "#desligo <--> amigo\n",
    "#riman <--> cuerpo\n",
    "#sol <--> lol\n",
    "#lo <--> yo\n",
    "\n",
    "palabra1 = input(\"Ingresa la primer palabra: \")\n",
    "palabra2 = input(\"Ingresa la segunda palabra: \")\n",
    "\n",
    "if len(palabra1) < 3 or len(palabra2) < 3:\n",
    "    print(\"NO rima, porque tienen menos de 3 caracteres\")\n",
    "elif palabra1[-3 : ] == palabra2[-3 : ]:\n",
    "    print(\"Las palabras riman\")\n",
    "elif palabra1[-2 : ] == palabra2[-2 : ]:\n",
    "    print(\"Las palabras riman un poco\")\n",
    "else:\n",
    "    print(\"Las palabras no riman\")"
   ]
  },
  {
   "cell_type": "markdown",
   "metadata": {},
   "source": [
    "# Ejercicio 4\n",
    "\n",
    "Crear un programa que permita al usuario elegir un candidato por el cual votar. Las posibilidades son: candidato A por el partido rojo, candidato B por el partido verde, candidato C por el partido azul. Según el candidato elegido (A, B ó C) se le debe imprimir el mensaje “Usted ha votado por el partido [color que corresponda al candidato elegido]”. Si el usuario ingresa una opción que no corresponde a ninguno de los candidatos disponibles, indicar “Opción errónea”.\n",
    "\n",
    "Pista: Si la letra ingresada por el usuario es en minúscula, el programa debe convertirla en mayúscula"
   ]
  },
  {
   "cell_type": "code",
   "execution_count": 62,
   "metadata": {},
   "outputs": [
    {
     "name": "stdout",
     "output_type": "stream",
     "text": [
      "Los candidatos son: \n",
      "- candidato A por el partido rojo \n",
      "- candidato B por el partido verde \n",
      "- candidato C por el partido azul\n",
      "\n",
      "\n",
      "Opción errónea\n"
     ]
    }
   ],
   "source": [
    "print('Los candidatos son: \\n- candidato A por el partido rojo \\n- candidato B por el partido verde \\n- candidato C por el partido azul')\n",
    "\n",
    "op = input('Candidato a elegir: ').lower()\n",
    "print('\\n')\n",
    "if op == 'a':\n",
    "    print('Usted ha votado por el partido rojo')\n",
    "elif op == 'b':\n",
    "    print('Usted ha votado por el partido verde')\n",
    "elif op == 'c':\n",
    "    print('Usted ha votado por el partido azul')\n",
    "else:\n",
    "    print('Opción errónea')"
   ]
  },
  {
   "cell_type": "markdown",
   "metadata": {},
   "source": [
    "#### Solución del curso"
   ]
  },
  {
   "cell_type": "code",
   "execution_count": null,
   "metadata": {},
   "outputs": [],
   "source": [
    "#Crear un programa que permita al usuario elegir un candidato por el cual votar. Las posibilidades son: candidato A por el partido rojo, candidato B por el partido verde, candidato C por el partido azul. Según el candidato elegido (A, B ó C) se le debe imprimir el mensaje “Usted ha votado por el partido [color que corresponda al candidato elegido]”. Si el usuario ingresa una opción que no corresponde a ninguno de los candidatos disponibles, indicar “Opción errónea”.\n",
    "\n",
    "#Pista: Si la letra ingresada por el usuario es en minúscula, el programa debe convertirla en mayúscula\n",
    "\n",
    "opcion = input(\"Ingresa la opcion de tu candidato (ABC): \")\n",
    "\n",
    "if opcion.upper() == \"A\":\n",
    "    print(\"Usted escogio el candidato Rojo\")\n",
    "elif opcion.upper() == \"B\":\n",
    "    print(\"Usted escogio el candidato Verde\")\n",
    "elif opcion.upper() == \"C\":\n",
    "    print(\"Usted escogio el candidato Azul\")\n",
    "else:\n",
    "    print(\"Opcion Erronea\")"
   ]
  }
 ],
 "metadata": {
  "kernelspec": {
   "display_name": "Python 3.10.4 64-bit",
   "language": "python",
   "name": "python3"
  },
  "language_info": {
   "name": "python",
   "version": "3.10.4"
  },
  "orig_nbformat": 4,
  "vscode": {
   "interpreter": {
    "hash": "26de051ba29f2982a8de78e945f0abaf191376122a1563185a90213a26c5da77"
   }
  }
 },
 "nbformat": 4,
 "nbformat_minor": 2
}
