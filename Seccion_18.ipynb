{
 "cells": [
  {
   "cell_type": "markdown",
   "metadata": {},
   "source": [
    "# Ejercicios del curso Master en Python 3.X. Aprende de 0 a EXPERTO\n",
    "\n",
    "## Sección 18: Ejercicios de POO\n",
    "\n",
    "Documentación en:\n",
    "\n",
    "    D:\\DocumentosD\\Python\\Curso-de-python--Udemy-\\Documentación\\11. POO\n",
    "    D:\\DocumentosD\\Python\\Curso-de-python--Udemy-\\Documentación\\12. Pilares de la POO"
   ]
  },
  {
   "cell_type": "markdown",
   "metadata": {},
   "source": [
    "## Ejercicio 1\n",
    "\n",
    "Realizar un programa que conste de una clase llamada Estudiante, que tenga como atributos el nombre y la nota del alumno. Definir los métodos para inicializar sus atributos, imprimirlos y mostrar un mensaje con el resultado de la nota y si ha aprobado o no."
   ]
  },
  {
   "cell_type": "code",
   "execution_count": 9,
   "metadata": {},
   "outputs": [
    {
     "name": "stdout",
     "output_type": "stream",
     "text": [
      "El estudiante ha reprovado con una nota de:  6\n"
     ]
    }
   ],
   "source": [
    "class estudiante():\n",
    "    def __init__(self, name, nota):\n",
    "        self._name = name\n",
    "        self._nota = nota\n",
    "    \n",
    "    @property\n",
    "    def name(self):\n",
    "        return self._name\n",
    "        \n",
    "    @property\n",
    "    def nota(self): \n",
    "        return self._nota\n",
    "    \n",
    "    def approved(self):\n",
    "        if self._nota >= 7:\n",
    "            print('El estudiante ha aprovado con una nota de: ', self._nota)\n",
    "        else:\n",
    "            print('El estudiante ha reprovado con una nota de: ', self._nota)\n",
    "        \n",
    "\n",
    "dwight = estudiante('Dwight Sutherland', 6)\n",
    "\n",
    "dwight.approved()\n",
    "    "
   ]
  },
  {
   "cell_type": "markdown",
   "metadata": {},
   "source": [
    "#### Solución del curso"
   ]
  },
  {
   "cell_type": "code",
   "execution_count": 10,
   "metadata": {},
   "outputs": [
    {
     "name": "stdout",
     "output_type": "stream",
     "text": [
      "Nombre: Daniel \n",
      "Nota: 10\n",
      "Has APROBADO!\n",
      "Nombre: Karla \n",
      "Nota: 5\n",
      "Has REPROBADO!\n"
     ]
    }
   ],
   "source": [
    "#Realizar un programa que conste de una clase llamada Estudiante, que tenga como atributos el nombre y la nota del estudiante. Definir los métodos para inicializar sus atributos, imprimirlos y mostrar un mensaje con el resultado de la nota y si ha aprobado o no.\n",
    "\n",
    "class Estudiante():\n",
    "    def __init__(self , nombre , nota):\n",
    "        self.nombre = nombre\n",
    "        self.nota = nota\n",
    "    \n",
    "    def imprimir(self):\n",
    "        print(\"Nombre: {} \\nNota: {}\".format(self.nombre , self.nota))\n",
    "    \n",
    "    def resultados(self):\n",
    "        if self.nota < 7:\n",
    "            print(\"Has REPROBADO!\")\n",
    "        else:\n",
    "            print(\"Has APROBADO!\")\n",
    "\n",
    "estudiante1 = Estudiante(\"Daniel\" , 10)\n",
    "estudiante1.imprimir()\n",
    "estudiante1.resultados()\n",
    "\n",
    "estudiante2 = Estudiante(\"Karla\" , 5)\n",
    "estudiante2.imprimir()\n",
    "estudiante2.resultados()"
   ]
  },
  {
   "cell_type": "markdown",
   "metadata": {},
   "source": [
    "## Ejercicio 2\n",
    "\n",
    "Realizar un programa en el cual se declaren dos valores enteros por teclado utilizando el método __init__. Calcular después la suma, resta, multiplicación y división. Utilizar un método para cada una e imprimir los resultados obtenidos. Llamar a la clase Calculadora.\n",
    "\n"
   ]
  },
  {
   "cell_type": "code",
   "execution_count": 17,
   "metadata": {},
   "outputs": [
    {
     "name": "stdout",
     "output_type": "stream",
     "text": [
      "Número 1 = 4.0 | Número 2 = 2.0\n",
      "La suma es: 6.0\n",
      "La resta es: 2.0\n",
      "La multiplicacion es: 8.0\n",
      "La división es: 2.0\n"
     ]
    }
   ],
   "source": [
    "class Calculadora():\n",
    "    \n",
    "    def __init__(self):\n",
    "        self.numeros()\n",
    "    \n",
    "    def numeros(self):\n",
    "        self.num1 = float(input('Primer valor: '))\n",
    "        self.num2 = float(input('Segundo valor: '))\n",
    "\n",
    "    def print_numeros(self):\n",
    "        print('Número 1 = {} | Número 2 = {}'.format(self.num1, self.num2))\n",
    "        \n",
    "    def suma(self):\n",
    "        sum = self.num1 + self.num2\n",
    "        print('La suma es: {}'.format(sum))\n",
    "        \n",
    "    def resta(self):\n",
    "        rest = self.num1 - self.num2\n",
    "        print('La resta es: {}'.format(rest))\n",
    "        \n",
    "    def multiplicacion(self):\n",
    "        mult = self.num1 * self.num2\n",
    "        print('La multiplicacion es: {}'.format(mult))\n",
    "        \n",
    "    def dividir(self):\n",
    "        div = self.num1 / self.num2\n",
    "        print('La división es: {}'.format(div))\n",
    "        \n",
    "calc = Calculadora()\n",
    "calc.print_numeros()\n",
    "calc.suma()\n",
    "calc.resta()\n",
    "calc.multiplicacion()\n",
    "calc.dividir()"
   ]
  },
  {
   "cell_type": "markdown",
   "metadata": {},
   "source": [
    "#### Solución del curso"
   ]
  },
  {
   "cell_type": "code",
   "execution_count": 18,
   "metadata": {},
   "outputs": [
    {
     "name": "stdout",
     "output_type": "stream",
     "text": [
      "La suma da como resultado:  6\n",
      "La resta da como resultado:  2\n",
      "('La multiplicacion da como resultado: ', 8)\n",
      "('La division da como resultado: ', 2.0)\n"
     ]
    }
   ],
   "source": [
    "#Realizar un programa en el cual se declaren dos valores enteros por teclado utilizando el método __init__. Calcular después la suma, resta, multiplicación y división. Utilizar un método para cada una e imprimir los resultados obtenidos. Llamar a la clase Calculadora.\n",
    "\n",
    "class Calculadora():\n",
    "    def __init__(self):\n",
    "        self.num1 = int(input(\"Ingrese el Primer Valor: \"))\n",
    "        self.num2 = int(input(\"Ingrese el Segundo Valor: \"))\n",
    "    \n",
    "    def suma(self):\n",
    "        self.suma = self.num1 + self.num2\n",
    "        print( \"La suma da como resultado: \",self.suma)\n",
    "    \n",
    "    def resta(self):\n",
    "        self.resta = self.num1 - self.num2\n",
    "        print(\"La resta da como resultado: \",self.resta)\n",
    "\n",
    "    def multi(self):\n",
    "        self.multi = self.num1 * self.num2\n",
    "        return \"La multiplicacion da como resultado: \",self.multi\n",
    "\n",
    "    def division(self):\n",
    "        self.division = self.num1 / self.num2\n",
    "        return \"La division da como resultado: \",self.division\n",
    "\n",
    "calcular = Calculadora()\n",
    "calcular.suma()\n",
    "calcular.resta()\n",
    "print(calcular.multi())\n",
    "print(calcular.division())"
   ]
  },
  {
   "cell_type": "markdown",
   "metadata": {},
   "source": [
    "## Ejercicio 3\n",
    "\n",
    "Crear una clase Fabrica que tenga los atributos de Llantas, Color y Precio; luego crear dos clases mas que hereden de Fabrica, las cuales son Moto y Carro. Crear metodos que muestren la cantidad de llantas, color y precio de ambos transportes. Por ultimo, crear objetos para cada clase y mostrar por pantalla los atributos de cada uno\n",
    "\n"
   ]
  },
  {
   "cell_type": "code",
   "execution_count": 27,
   "metadata": {},
   "outputs": [
    {
     "name": "stdout",
     "output_type": "stream",
     "text": [
      "Las características de la moto son: \n",
      "- Llantas: 2\n",
      "- Color: Negro\n",
      "- precio: 10000\n",
      "- modelo: Viper\n",
      "\n"
     ]
    },
    {
     "ename": "TypeError",
     "evalue": "__str__ returned non-string (type NoneType)",
     "output_type": "error",
     "traceback": [
      "\u001b[1;31m---------------------------------------------------------------------------\u001b[0m",
      "\u001b[1;31mTypeError\u001b[0m                                 Traceback (most recent call last)",
      "\u001b[1;32mUntitled-1.ipynb Celda 11\u001b[0m in \u001b[0;36m<cell line: 45>\u001b[1;34m()\u001b[0m\n\u001b[0;32m     <a href='vscode-notebook-cell:Untitled-1.ipynb?jupyter-notebook#ch0000011untitled?line=41'>42</a>\u001b[0m car \u001b[39m=\u001b[39m Carro(\u001b[39m4\u001b[39m, \u001b[39m'\u001b[39m\u001b[39mrojo\u001b[39m\u001b[39m'\u001b[39m, \u001b[39m14000\u001b[39m, \u001b[39m'\u001b[39m\u001b[39mMitsubishi\u001b[39m\u001b[39m'\u001b[39m)\n\u001b[0;32m     <a href='vscode-notebook-cell:Untitled-1.ipynb?jupyter-notebook#ch0000011untitled?line=42'>43</a>\u001b[0m moto \u001b[39m=\u001b[39m Moto(\u001b[39m2\u001b[39m, \u001b[39m'\u001b[39m\u001b[39mNegro\u001b[39m\u001b[39m'\u001b[39m, \u001b[39m10000\u001b[39m, \u001b[39m'\u001b[39m\u001b[39mViper\u001b[39m\u001b[39m'\u001b[39m)\n\u001b[1;32m---> <a href='vscode-notebook-cell:Untitled-1.ipynb?jupyter-notebook#ch0000011untitled?line=44'>45</a>\u001b[0m \u001b[39mprint\u001b[39;49m(moto)\n",
      "\u001b[1;31mTypeError\u001b[0m: __str__ returned non-string (type NoneType)"
     ]
    }
   ],
   "source": [
    "class Fabrica():\n",
    "    \n",
    "    def __init__(self, llantas, color, precio):\n",
    "        self._llantas = llantas   \n",
    "        self._color = color\n",
    "        self._precio = precio\n",
    "    \n",
    "    def llantas(self):\n",
    "        print('El vehículo tiene {} llantas'.format(self._llantas))\n",
    "        \n",
    "    def color(self):\n",
    "        print('El color del vehículo es: {}'.format(self._color))\n",
    "        \n",
    "    def precio(self):\n",
    "        print('El precio del vehículo es: {}'.format(self._precio))\n",
    "        \n",
    "        \n",
    "class Moto(Fabrica):\n",
    "    def __init__(self, llantas, color, precio, modelo):\n",
    "        super().__init__(llantas, color, precio)\n",
    "        self._modelo = modelo\n",
    "        \n",
    "    def tipo(self):\n",
    "        print('El modelo de Moto es: {}'.format(self._modelo))\n",
    "        \n",
    "    def __str__(self):\n",
    "        print('Las características de la moto son: ')\n",
    "        print('- Llantas: {}\\n- Color: {}\\n- precio: {}\\n- modelo: {}\\n'.format(self._llantas, self._color, self._precio, self._modelo))\n",
    "\n",
    "class Carro(Fabrica):\n",
    "    def __init__(self, llantas, color, precio, marca):\n",
    "        super().__init__(llantas, color, precio)\n",
    "        self._marca = marca\n",
    "        \n",
    "    def marca(self):\n",
    "        print('La marca del carro: {}'.format(self._marca))\n",
    "        \n",
    "    def __str__(self):\n",
    "        print('Las características del carro son: ')\n",
    "        print('- Llantas: {}\\n- Color: {}\\n- precio: {}\\n- marca: {}\\n'.format(self._llantas, self._color, self._precio, self._marca))\n",
    "        \n",
    "car = Carro(4, 'rojo', 14000, 'Mitsubishi')\n",
    "moto = Moto(2, 'Negro', 10000, 'Viper')\n",
    "\n",
    "print(moto)\n"
   ]
  }
 ],
 "metadata": {
  "kernelspec": {
   "display_name": "Python 3.10.4 64-bit",
   "language": "python",
   "name": "python3"
  },
  "language_info": {
   "codemirror_mode": {
    "name": "ipython",
    "version": 3
   },
   "file_extension": ".py",
   "mimetype": "text/x-python",
   "name": "python",
   "nbconvert_exporter": "python",
   "pygments_lexer": "ipython3",
   "version": "3.10.4"
  },
  "orig_nbformat": 4,
  "vscode": {
   "interpreter": {
    "hash": "26de051ba29f2982a8de78e945f0abaf191376122a1563185a90213a26c5da77"
   }
  }
 },
 "nbformat": 4,
 "nbformat_minor": 2
}
