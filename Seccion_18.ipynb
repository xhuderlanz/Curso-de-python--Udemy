{
 "cells": [
  {
   "cell_type": "markdown",
   "metadata": {},
   "source": [
    "# Ejercicios del curso Master en Python 3.X. Aprende de 0 a EXPERTO\n",
    "\n",
    "## Sección 18: Ejercicios de POO\n",
    "\n",
    "Documentación en:\n",
    "\n",
    "    D:\\DocumentosD\\Python\\Curso-de-python--Udemy-\\Documentación\\11. POO\n",
    "    D:\\DocumentosD\\Python\\Curso-de-python--Udemy-\\Documentación\\12. Pilares de la POO"
   ]
  },
  {
   "cell_type": "markdown",
   "metadata": {},
   "source": [
    "## Ejercicio 1\n",
    "\n",
    "Realizar un programa que conste de una clase llamada Estudiante, que tenga como atributos el nombre y la nota del alumno. Definir los métodos para inicializar sus atributos, imprimirlos y mostrar un mensaje con el resultado de la nota y si ha aprobado o no."
   ]
  },
  {
   "cell_type": "code",
   "execution_count": 9,
   "metadata": {},
   "outputs": [
    {
     "name": "stdout",
     "output_type": "stream",
     "text": [
      "El estudiante ha reprovado con una nota de:  6\n"
     ]
    }
   ],
   "source": [
    "class estudiante():\n",
    "    def __init__(self, name, nota):\n",
    "        self._name = name\n",
    "        self._nota = nota\n",
    "    \n",
    "    @property\n",
    "    def name(self):\n",
    "        return self._name\n",
    "        \n",
    "    @property\n",
    "    def nota(self): \n",
    "        return self._nota\n",
    "    \n",
    "    def approved(self):\n",
    "        if self._nota >= 7:\n",
    "            print('El estudiante ha aprovado con una nota de: ', self._nota)\n",
    "        else:\n",
    "            print('El estudiante ha reprovado con una nota de: ', self._nota)\n",
    "        \n",
    "\n",
    "dwight = estudiante('Dwight Sutherland', 6)\n",
    "\n",
    "dwight.approved()\n",
    "    "
   ]
  },
  {
   "cell_type": "markdown",
   "metadata": {},
   "source": [
    "#### Solución del curso"
   ]
  },
  {
   "cell_type": "code",
   "execution_count": 10,
   "metadata": {},
   "outputs": [
    {
     "name": "stdout",
     "output_type": "stream",
     "text": [
      "Nombre: Daniel \n",
      "Nota: 10\n",
      "Has APROBADO!\n",
      "Nombre: Karla \n",
      "Nota: 5\n",
      "Has REPROBADO!\n"
     ]
    }
   ],
   "source": [
    "#Realizar un programa que conste de una clase llamada Estudiante, que tenga como atributos el nombre y la nota del estudiante. Definir los métodos para inicializar sus atributos, imprimirlos y mostrar un mensaje con el resultado de la nota y si ha aprobado o no.\n",
    "\n",
    "class Estudiante():\n",
    "    def __init__(self , nombre , nota):\n",
    "        self.nombre = nombre\n",
    "        self.nota = nota\n",
    "    \n",
    "    def imprimir(self):\n",
    "        print(\"Nombre: {} \\nNota: {}\".format(self.nombre , self.nota))\n",
    "    \n",
    "    def resultados(self):\n",
    "        if self.nota < 7:\n",
    "            print(\"Has REPROBADO!\")\n",
    "        else:\n",
    "            print(\"Has APROBADO!\")\n",
    "\n",
    "estudiante1 = Estudiante(\"Daniel\" , 10)\n",
    "estudiante1.imprimir()\n",
    "estudiante1.resultados()\n",
    "\n",
    "estudiante2 = Estudiante(\"Karla\" , 5)\n",
    "estudiante2.imprimir()\n",
    "estudiante2.resultados()"
   ]
  },
  {
   "cell_type": "markdown",
   "metadata": {},
   "source": [
    "## Ejercicio 2\n",
    "\n",
    "Realizar un programa en el cual se declaren dos valores enteros por teclado utilizando el método __init__. Calcular después la suma, resta, multiplicación y división. Utilizar un método para cada una e imprimir los resultados obtenidos. Llamar a la clase Calculadora.\n",
    "\n"
   ]
  },
  {
   "cell_type": "code",
   "execution_count": 17,
   "metadata": {},
   "outputs": [
    {
     "name": "stdout",
     "output_type": "stream",
     "text": [
      "Número 1 = 4.0 | Número 2 = 2.0\n",
      "La suma es: 6.0\n",
      "La resta es: 2.0\n",
      "La multiplicacion es: 8.0\n",
      "La división es: 2.0\n"
     ]
    }
   ],
   "source": [
    "class Calculadora():\n",
    "    \n",
    "    def __init__(self):\n",
    "        self.numeros()\n",
    "    \n",
    "    def numeros(self):\n",
    "        self.num1 = float(input('Primer valor: '))\n",
    "        self.num2 = float(input('Segundo valor: '))\n",
    "\n",
    "    def print_numeros(self):\n",
    "        print('Número 1 = {} | Número 2 = {}'.format(self.num1, self.num2))\n",
    "        \n",
    "    def suma(self):\n",
    "        sum = self.num1 + self.num2\n",
    "        print('La suma es: {}'.format(sum))\n",
    "        \n",
    "    def resta(self):\n",
    "        rest = self.num1 - self.num2\n",
    "        print('La resta es: {}'.format(rest))\n",
    "        \n",
    "    def multiplicacion(self):\n",
    "        mult = self.num1 * self.num2\n",
    "        print('La multiplicacion es: {}'.format(mult))\n",
    "        \n",
    "    def dividir(self):\n",
    "        div = self.num1 / self.num2\n",
    "        print('La división es: {}'.format(div))\n",
    "        \n",
    "calc = Calculadora()\n",
    "calc.print_numeros()\n",
    "calc.suma()\n",
    "calc.resta()\n",
    "calc.multiplicacion()\n",
    "calc.dividir()"
   ]
  },
  {
   "cell_type": "markdown",
   "metadata": {},
   "source": [
    "#### Solución del curso"
   ]
  },
  {
   "cell_type": "code",
   "execution_count": 18,
   "metadata": {},
   "outputs": [
    {
     "name": "stdout",
     "output_type": "stream",
     "text": [
      "La suma da como resultado:  6\n",
      "La resta da como resultado:  2\n",
      "('La multiplicacion da como resultado: ', 8)\n",
      "('La division da como resultado: ', 2.0)\n"
     ]
    }
   ],
   "source": [
    "#Realizar un programa en el cual se declaren dos valores enteros por teclado utilizando el método __init__. Calcular después la suma, resta, multiplicación y división. Utilizar un método para cada una e imprimir los resultados obtenidos. Llamar a la clase Calculadora.\n",
    "\n",
    "class Calculadora():\n",
    "    def __init__(self):\n",
    "        self.num1 = int(input(\"Ingrese el Primer Valor: \"))\n",
    "        self.num2 = int(input(\"Ingrese el Segundo Valor: \"))\n",
    "    \n",
    "    def suma(self):\n",
    "        self.suma = self.num1 + self.num2\n",
    "        print( \"La suma da como resultado: \",self.suma)\n",
    "    \n",
    "    def resta(self):\n",
    "        self.resta = self.num1 - self.num2\n",
    "        print(\"La resta da como resultado: \",self.resta)\n",
    "\n",
    "    def multi(self):\n",
    "        self.multi = self.num1 * self.num2\n",
    "        return \"La multiplicacion da como resultado: \",self.multi\n",
    "\n",
    "    def division(self):\n",
    "        self.division = self.num1 / self.num2\n",
    "        return \"La division da como resultado: \",self.division\n",
    "\n",
    "calcular = Calculadora()\n",
    "calcular.suma()\n",
    "calcular.resta()\n",
    "print(calcular.multi())\n",
    "print(calcular.division())"
   ]
  },
  {
   "cell_type": "markdown",
   "metadata": {},
   "source": [
    "## Ejercicio 3\n",
    "\n",
    "Crear una clase Fabrica que tenga los atributos de Llantas, Color y Precio; luego crear dos clases mas que hereden de Fabrica, las cuales son Moto y Carro. Crear metodos que muestren la cantidad de llantas, color y precio de ambos transportes. Por ultimo, crear objetos para cada clase y mostrar por pantalla los atributos de cada uno\n",
    "\n"
   ]
  },
  {
   "cell_type": "code",
   "execution_count": 6,
   "metadata": {},
   "outputs": [
    {
     "name": "stdout",
     "output_type": "stream",
     "text": [
      "El precio del vehículo es: 14000\n",
      "None\n"
     ]
    }
   ],
   "source": [
    "class Fabrica():\n",
    "    \n",
    "    def __init__(self, llantas, color, precio):\n",
    "        self._llantas = llantas   \n",
    "        self._color = color\n",
    "        self._precio = precio\n",
    "    \n",
    "    @property\n",
    "    def llantas(self):\n",
    "        print('El vehículo tiene {} llantas'.format(self._llantas))\n",
    "    \n",
    "    @property \n",
    "    def color(self):\n",
    "        print('El color del vehículo es: {}'.format(self._color))\n",
    "    \n",
    "    @property    \n",
    "    def precio(self):\n",
    "        print('El precio del vehículo es: {}'.format(self._precio))\n",
    "        \n",
    "        \n",
    "class Moto(Fabrica):\n",
    "    def __init__(self, llantas, color, precio, modelo):\n",
    "        super().__init__(llantas, color, precio)\n",
    "        self._modelo = modelo\n",
    "    \n",
    "    @property    \n",
    "    def tipo(self):\n",
    "        print('El modelo de Moto es: {}'.format(self._modelo))\n",
    "        \n",
    "    def __str__(self):\n",
    "        print('Las características de la moto son: ')\n",
    "        print('- Llantas: {}\\n- Color: {}\\n- precio: {}\\n- modelo: {}\\n'.format(self._llantas, self._color, self._precio, self._modelo))\n",
    "        return f'Moto({self._llantas},{self._color},{self._precio},{self._modelo})'\n",
    "\n",
    "class Carro(Fabrica):\n",
    "    def __init__(self, llantas, color, precio, marca):\n",
    "        super().__init__(llantas, color, precio)\n",
    "        self._marca = marca\n",
    "    \n",
    "    @property    \n",
    "    def marca(self):\n",
    "        print('La marca del carro: {}'.format(self._marca))\n",
    "        \n",
    "    def __str__(self):\n",
    "        print('Las características del carro son: ')\n",
    "        print('- Llantas: {}\\n- Color: {}\\n- precio: {}\\n- marca: {}\\n'.format(self._llantas, self._color, self._precio, self._marca))\n",
    "        return f'Carro({self._llantas},{self._color},{self._precio},{self._marca})'\n",
    "        \n",
    "car = Carro(4, 'rojo', 14000, 'Mitsubishi')\n",
    "moto = Moto(2, 'Negro', 10000, 'Viper')\n",
    "\n"
   ]
  },
  {
   "cell_type": "markdown",
   "metadata": {},
   "source": [
    "#### Solución del curso"
   ]
  },
  {
   "cell_type": "code",
   "execution_count": null,
   "metadata": {},
   "outputs": [],
   "source": [
    "#Crear una clase Fabrica que tenga los atributos de Llantas, Color y Precio; luego crear dos clases mas que hereden de Fabrica, las cuales son Moto y Carro. Crear metodos que muestren la cantidad de llantas, color y precio de ambos transportes. Por ultimo, crear objetos para cada clase y mostrar por pantalla los atributos de cada uno\n",
    "\n",
    "class Fabrica():\n",
    "    def __init__(self,llantas,color,precio):\n",
    "        self.llantas = llantas\n",
    "        self.color = color\n",
    "        self.precio = precio\n",
    "\n",
    "class Carro(Fabrica):\n",
    "    def datos(self):\n",
    "        print(\"La cantidad de llantas es de: \",self.llantas)\n",
    "        print(\"El color del carro es: \",self.color)\n",
    "        print(\"El precio del carro es de: $\",self.precio)\n",
    "\n",
    "class Moto(Fabrica):\n",
    "    def datos(self):\n",
    "        print('La cantidad de llantas de la moto es de: ',self.llantas)\n",
    "        print('El color de la moto es: ',self.color)\n",
    "        print('El precio de la moto es: $',self.precio)\n",
    "\n",
    "moto = Moto(2,\"Negro\", 4000)\n",
    "moto.datos()\n",
    "\n",
    "carro = Carro(4, \"Blanco\", 5000)\n",
    "carro.datos()"
   ]
  },
  {
   "cell_type": "markdown",
   "metadata": {},
   "source": [
    "## Ejercicio 4\n",
    "\n",
    "Crear una clase llamada Marino(), con un metodo que sea hablar, en donde muestre un mensaje que diga \"Hola...\". Luego, crear una clase Pulpo() que herede Marino, pero modificar el mensaje de hablar por \"Soy un Pulpo\". Por ultimo, crear una clase Foca(), heredada de Marino, pero que tenga un atributo nuevo llamado mensaje y que muestre ese mesjae como parametro"
   ]
  },
  {
   "cell_type": "code",
   "execution_count": 7,
   "metadata": {},
   "outputs": [
    {
     "name": "stdout",
     "output_type": "stream",
     "text": [
      "Soy un Pulpo\n",
      "Hola...\n",
      "AAAAAA\n"
     ]
    }
   ],
   "source": [
    "class Marino():\n",
    "    def __init__(self, name):\n",
    "        self._name = name\n",
    "        \n",
    "    def hablar(self):\n",
    "        print('Hola...')\n",
    "        \n",
    "class Pulpo(Marino):\n",
    "    def hablar(self):\n",
    "        print('Soy un Pulpo')\n",
    "        \n",
    "class Foca(Marino):\n",
    "    def mensaje(self,men):\n",
    "        print(men)\n",
    "        \n",
    "\n",
    "pulpo = Pulpo('a')\n",
    "foca = Foca('b')\n",
    "\n",
    "pulpo.hablar()\n",
    "foca.hablar()\n",
    "foca.mensaje('AAAAAA')\n",
    "\n",
    "    "
   ]
  },
  {
   "cell_type": "markdown",
   "metadata": {},
   "source": [
    "#### Solución del curso"
   ]
  },
  {
   "cell_type": "code",
   "execution_count": 8,
   "metadata": {},
   "outputs": [
    {
     "name": "stdout",
     "output_type": "stream",
     "text": [
      "Hola...\n",
      "Soy un pulpo\n",
      "Hola, soy una foca\n"
     ]
    }
   ],
   "source": [
    "#Crear una clase llamada Marino(), con un metodo que sea hablar, en donde muestre un mensaje que diga \"Hola...\". Luego, crear una clase Pulpo() que herede Marino, pero modificar el mensaje de hablar por \"Soy un Pulpo\". Por ultimo, crear una clase Foca(), heredada de Marino, pero que tenga un atributo nuevo llamado mensaje y que muestre ese mesjae como parametro\n",
    "\n",
    "class Marino():\n",
    "    def hablar(self):\n",
    "        print(\"Hola...\")\n",
    "\n",
    "class Pulpo(Marino):\n",
    "    def hablar(self):\n",
    "        print(\"Soy un pulpo\")\n",
    "\n",
    "class Foca(Marino):\n",
    "    def hablar(self,mensaje):\n",
    "        self.mensaje = mensaje\n",
    "        print(self.mensaje)\n",
    "\n",
    "marino = Marino()\n",
    "marino.hablar()\n",
    "\n",
    "pulpo = Pulpo()\n",
    "pulpo.hablar()\n",
    "\n",
    "foca = Foca()\n",
    "foca.hablar(\"Hola, soy una foca\")"
   ]
  },
  {
   "cell_type": "markdown",
   "metadata": {},
   "source": [
    "## Ejercicio 5\n",
    "\n",
    "Crear un programa con tres clases Universidad, con atributos nombre (Donde se almacena el nombre de la Universidad). Otra llamada Carerra, con los atributos especialidad (En donde me guarda la especialidad de un estudiante). Una ultima llamada Estudiante, que tenga como atributos su nombre y edad. El programa debe imprimir la especialidad, edad, nombre y universidad de dicho estudiante con un objeto llamado persona."
   ]
  },
  {
   "cell_type": "code",
   "execution_count": 42,
   "metadata": {},
   "outputs": [
    {
     "name": "stdout",
     "output_type": "stream",
     "text": [
      "La universidad es:  utp\n",
      "La especialidad es:  control\n",
      "Mi nombre es Dwight, estudio en la utp la carrera de control\n"
     ]
    }
   ],
   "source": [
    "class Universidad():\n",
    "    def __init__(self, universidad):\n",
    "        self._universidad = universidad\n",
    "        \n",
    "class Carrera():\n",
    "    def __init__(self, especialidad):\n",
    "        self._especialidad = especialidad\n",
    "        \n",
    "class Estudiante(Universidad, Carrera):\n",
    "    def __init__(self, universidad, especialidad, nombre, edad):\n",
    "        super().__init__(universidad)\n",
    "        super(Universidad, self).__init__(especialidad)\n",
    "        self._nombre = nombre\n",
    "        self._edad = edad\n",
    "        \n",
    "    def universidad(self):\n",
    "        print('La universidad es: ',self._universidad)\n",
    "        \n",
    "    def especialidad(self):\n",
    "        print('La especialidad es: ',self._especialidad)\n",
    "        \n",
    "    def print_info(self):\n",
    "        print('Mi nombre es {}, estudio en la {} la carrera de {}'.format(self._nombre, self._universidad, self._especialidad))\n",
    "        \n",
    "est = Estudiante('utp', 'control', 'Dwight', 21)\n",
    "est.universidad()\n",
    "est.especialidad()\n",
    "est.print_info()\n"
   ]
  },
  {
   "cell_type": "code",
   "execution_count": 39,
   "metadata": {},
   "outputs": [
    {
     "name": "stdout",
     "output_type": "stream",
     "text": [
      "Mi nombre es Carlos, tengo 20 años, mi especialidad es Sistemas. Estudio en la Universidad Don Bosco\n"
     ]
    }
   ],
   "source": [
    " #Crear un programa con tres clases Universidad, con atributos nombre (Donde se almacena el nombre de la Universidad). Otra llamada Carerra, con los atributos especialidad (En donde me guarda la especialidad de un estudiante). Una ultima llamada Estudiante, que tenga como atributos su nombre y edad. El programa debe imprimir la especialidad, edad, nombre y universidad de dicho estudiante con un objeto llamado persona.\n",
    "class Universidad():\n",
    "    def __init__(self,Nombre):\n",
    "        self.Nombre = Nombre\n",
    "\n",
    "class Carerra():\n",
    "    def carrera(self,especialidad):\n",
    "        self.especialidad = especialidad\n",
    "\n",
    "class Estudiante(Universidad,Carerra):\n",
    "    def datos(self,nombre,edad):\n",
    "        self.nombre = nombre\n",
    "        self.edad = edad\n",
    "        print(\"Mi nombre es {}, tengo {} años, mi especialidad es {}. Estudio en la Universidad {}\".format(self.nombre,self.edad,self.especialidad,self.Nombre))\n",
    "\n",
    "persona = Estudiante(\"Don Bosco\")\n",
    "persona.carrera(\"Sistemas\")\n",
    "persona.datos(\"Carlos\", 20)"
   ]
  }
 ],
 "metadata": {
  "kernelspec": {
   "display_name": "Python 3.10.4 64-bit",
   "language": "python",
   "name": "python3"
  },
  "language_info": {
   "codemirror_mode": {
    "name": "ipython",
    "version": 3
   },
   "file_extension": ".py",
   "mimetype": "text/x-python",
   "name": "python",
   "nbconvert_exporter": "python",
   "pygments_lexer": "ipython3",
   "version": "3.10.4"
  },
  "orig_nbformat": 4,
  "vscode": {
   "interpreter": {
    "hash": "26de051ba29f2982a8de78e945f0abaf191376122a1563185a90213a26c5da77"
   }
  }
 },
 "nbformat": 4,
 "nbformat_minor": 2
}
